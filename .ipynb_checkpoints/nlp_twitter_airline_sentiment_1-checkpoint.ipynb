{
 "cells": [
  {
   "cell_type": "markdown",
   "metadata": {},
   "source": [
    "# Sentiment Analysis On Airline-Related Twitter Data: Part I\n",
    "## Featuring spaCy & Scikit-Learn Spot Checking\n",
    "\n",
    "In this project, we'll be working on a sentiment analysis task for Twitter messages (\"tweets\").  Specifically, the data we'll be working with is a selection of airline-related Tweets from 2015, found on Kaggle [here](https://www.kaggle.com/crowdflower/twitter-airline-sentiment/).  It's available in both CSV form and a SQLite database, and in this case we'll use the SQLite database.\n",
    "\n",
    "*Note*: This dataset categorizes sentiment into 3 (positive, neutral, negative) categories rather than the basic 2 (positive, negative) as some of the tweets are particularly fact/information-oriented.  This makes the sentiment analysis task different than the typical 2-category type (positive vs. negative only), but we'll work with the 3 categories throughout and see what kind of performance we can achieve."
   ]
  },
  {
   "cell_type": "code",
   "execution_count": 1,
   "metadata": {},
   "outputs": [],
   "source": [
    "import warnings\n",
    "warnings.filterwarnings('ignore') # hide majority of Python warnings that may come up along the way\n",
    "\n",
    "import pandas as pd\n",
    "import numpy as np\n",
    "import matplotlib.pyplot as plt\n",
    "import seaborn as sns\n",
    "\n",
    "# compress_pickle for compressing and saving python objects\n",
    "import compress_pickle\n",
    "\n",
    "import sqlite3\n",
    "\n",
    "%matplotlib inline"
   ]
  },
  {
   "cell_type": "markdown",
   "metadata": {},
   "source": [
    "## Pulling The Data From SQLite\n",
    "\n",
    "Let's create a couple of basic helper functions for interacting with the SQLite database and take a look at what it contains."
   ]
  },
  {
   "cell_type": "code",
   "execution_count": 2,
   "metadata": {},
   "outputs": [],
   "source": [
    "# helper function to quickly run queries and display as dataframes\n",
    "\n",
    "def run_query(q):\n",
    "    with sqlite3.connect('database.sqlite') as conn:\n",
    "        return pd.read_sql_query(q, conn)\n",
    "\n",
    "# helper function to display existing tables & views in the database\n",
    "\n",
    "def show_tables():\n",
    "    q = 'SELECT name, type FROM sqlite_master WHERE type IN (\"table\", \"view\")'\n",
    "    return run_query(q)"
   ]
  },
  {
   "cell_type": "code",
   "execution_count": 3,
   "metadata": {},
   "outputs": [
    {
     "data": {
      "text/html": [
       "<div>\n",
       "<style scoped>\n",
       "    .dataframe tbody tr th:only-of-type {\n",
       "        vertical-align: middle;\n",
       "    }\n",
       "\n",
       "    .dataframe tbody tr th {\n",
       "        vertical-align: top;\n",
       "    }\n",
       "\n",
       "    .dataframe thead th {\n",
       "        text-align: right;\n",
       "    }\n",
       "</style>\n",
       "<table border=\"1\" class=\"dataframe\">\n",
       "  <thead>\n",
       "    <tr style=\"text-align: right;\">\n",
       "      <th></th>\n",
       "      <th>name</th>\n",
       "      <th>type</th>\n",
       "    </tr>\n",
       "  </thead>\n",
       "  <tbody>\n",
       "    <tr>\n",
       "      <th>0</th>\n",
       "      <td>Tweets</td>\n",
       "      <td>table</td>\n",
       "    </tr>\n",
       "  </tbody>\n",
       "</table>\n",
       "</div>"
      ],
      "text/plain": [
       "     name   type\n",
       "0  Tweets  table"
      ]
     },
     "execution_count": 3,
     "metadata": {},
     "output_type": "execute_result"
    }
   ],
   "source": [
    "show_tables()"
   ]
  },
  {
   "cell_type": "markdown",
   "metadata": {},
   "source": [
    "This is, of course, a very basic database in terms of its contents; with only one table.  Let's take a look at the top 5 rows from the `Tweets` table and include all columns to see what information is available."
   ]
  },
  {
   "cell_type": "code",
   "execution_count": 4,
   "metadata": {},
   "outputs": [
    {
     "data": {
      "text/html": [
       "<div>\n",
       "<style scoped>\n",
       "    .dataframe tbody tr th:only-of-type {\n",
       "        vertical-align: middle;\n",
       "    }\n",
       "\n",
       "    .dataframe tbody tr th {\n",
       "        vertical-align: top;\n",
       "    }\n",
       "\n",
       "    .dataframe thead th {\n",
       "        text-align: right;\n",
       "    }\n",
       "</style>\n",
       "<table border=\"1\" class=\"dataframe\">\n",
       "  <thead>\n",
       "    <tr style=\"text-align: right;\">\n",
       "      <th></th>\n",
       "      <th>tweet_id</th>\n",
       "      <th>airline_sentiment</th>\n",
       "      <th>airline_sentiment_confidence</th>\n",
       "      <th>negativereason</th>\n",
       "      <th>negativereason_confidence</th>\n",
       "      <th>airline</th>\n",
       "      <th>airline_sentiment_gold</th>\n",
       "      <th>name</th>\n",
       "      <th>negativereason_gold</th>\n",
       "      <th>retweet_count</th>\n",
       "      <th>text</th>\n",
       "      <th>tweet_coord</th>\n",
       "      <th>tweet_created</th>\n",
       "      <th>tweet_location</th>\n",
       "      <th>user_timezone</th>\n",
       "    </tr>\n",
       "  </thead>\n",
       "  <tbody>\n",
       "    <tr>\n",
       "      <th>0</th>\n",
       "      <td>567588278875213824</td>\n",
       "      <td>neutral</td>\n",
       "      <td>1</td>\n",
       "      <td></td>\n",
       "      <td></td>\n",
       "      <td>Delta</td>\n",
       "      <td></td>\n",
       "      <td>JetBlueNews</td>\n",
       "      <td></td>\n",
       "      <td>0</td>\n",
       "      <td>@JetBlue's new CEO seeks the right balance to ...</td>\n",
       "      <td></td>\n",
       "      <td>2015-02-16 23:36:05 -0800</td>\n",
       "      <td>USA</td>\n",
       "      <td>Sydney</td>\n",
       "    </tr>\n",
       "    <tr>\n",
       "      <th>1</th>\n",
       "      <td>567590027375702016</td>\n",
       "      <td>negative</td>\n",
       "      <td>1</td>\n",
       "      <td>Can't Tell</td>\n",
       "      <td>0.6503</td>\n",
       "      <td>Delta</td>\n",
       "      <td></td>\n",
       "      <td>nesi_1992</td>\n",
       "      <td></td>\n",
       "      <td>0</td>\n",
       "      <td>@JetBlue is REALLY getting on my nerves !! 😡😡 ...</td>\n",
       "      <td></td>\n",
       "      <td>2015-02-16 23:43:02 -0800</td>\n",
       "      <td>undecided</td>\n",
       "      <td>Pacific Time (US &amp; Canada)</td>\n",
       "    </tr>\n",
       "    <tr>\n",
       "      <th>2</th>\n",
       "      <td>567591480085463040</td>\n",
       "      <td>negative</td>\n",
       "      <td>1</td>\n",
       "      <td>Late Flight</td>\n",
       "      <td>0.346</td>\n",
       "      <td>United</td>\n",
       "      <td></td>\n",
       "      <td>CPoutloud</td>\n",
       "      <td></td>\n",
       "      <td>0</td>\n",
       "      <td>@united yes. We waited in line for almost an h...</td>\n",
       "      <td></td>\n",
       "      <td>2015-02-16 23:48:48 -0800</td>\n",
       "      <td>Washington, DC</td>\n",
       "      <td></td>\n",
       "    </tr>\n",
       "    <tr>\n",
       "      <th>3</th>\n",
       "      <td>567592368451248130</td>\n",
       "      <td>negative</td>\n",
       "      <td>1</td>\n",
       "      <td>Late Flight</td>\n",
       "      <td>1</td>\n",
       "      <td>United</td>\n",
       "      <td></td>\n",
       "      <td>brenduch</td>\n",
       "      <td></td>\n",
       "      <td>0</td>\n",
       "      <td>@united the we got into the gate at IAH on tim...</td>\n",
       "      <td></td>\n",
       "      <td>2015-02-16 23:52:20 -0800</td>\n",
       "      <td></td>\n",
       "      <td>Buenos Aires</td>\n",
       "    </tr>\n",
       "    <tr>\n",
       "      <th>4</th>\n",
       "      <td>567594449874587648</td>\n",
       "      <td>negative</td>\n",
       "      <td>1</td>\n",
       "      <td>Customer Service Issue</td>\n",
       "      <td>0.3451</td>\n",
       "      <td>Southwest</td>\n",
       "      <td></td>\n",
       "      <td>VahidESQ</td>\n",
       "      <td></td>\n",
       "      <td>0</td>\n",
       "      <td>@SouthwestAir its cool that my bags take a bit...</td>\n",
       "      <td></td>\n",
       "      <td>2015-02-17 00:00:36 -0800</td>\n",
       "      <td>Los Angeles, CA</td>\n",
       "      <td>Pacific Time (US &amp; Canada)</td>\n",
       "    </tr>\n",
       "  </tbody>\n",
       "</table>\n",
       "</div>"
      ],
      "text/plain": [
       "             tweet_id airline_sentiment  airline_sentiment_confidence  \\\n",
       "0  567588278875213824           neutral                             1   \n",
       "1  567590027375702016          negative                             1   \n",
       "2  567591480085463040          negative                             1   \n",
       "3  567592368451248130          negative                             1   \n",
       "4  567594449874587648          negative                             1   \n",
       "\n",
       "           negativereason negativereason_confidence    airline  \\\n",
       "0                                                        Delta   \n",
       "1              Can't Tell                    0.6503      Delta   \n",
       "2             Late Flight                     0.346     United   \n",
       "3             Late Flight                         1     United   \n",
       "4  Customer Service Issue                    0.3451  Southwest   \n",
       "\n",
       "  airline_sentiment_gold         name negativereason_gold  retweet_count  \\\n",
       "0                         JetBlueNews                                  0   \n",
       "1                           nesi_1992                                  0   \n",
       "2                           CPoutloud                                  0   \n",
       "3                            brenduch                                  0   \n",
       "4                            VahidESQ                                  0   \n",
       "\n",
       "                                                text tweet_coord  \\\n",
       "0  @JetBlue's new CEO seeks the right balance to ...               \n",
       "1  @JetBlue is REALLY getting on my nerves !! 😡😡 ...               \n",
       "2  @united yes. We waited in line for almost an h...               \n",
       "3  @united the we got into the gate at IAH on tim...               \n",
       "4  @SouthwestAir its cool that my bags take a bit...               \n",
       "\n",
       "               tweet_created   tweet_location               user_timezone  \n",
       "0  2015-02-16 23:36:05 -0800              USA                      Sydney  \n",
       "1  2015-02-16 23:43:02 -0800        undecided  Pacific Time (US & Canada)  \n",
       "2  2015-02-16 23:48:48 -0800   Washington, DC                              \n",
       "3  2015-02-16 23:52:20 -0800                                 Buenos Aires  \n",
       "4  2015-02-17 00:00:36 -0800  Los Angeles, CA  Pacific Time (US & Canada)  "
      ]
     },
     "execution_count": 4,
     "metadata": {},
     "output_type": "execute_result"
    }
   ],
   "source": [
    "# check columns in Tweets table\n",
    "\n",
    "query = \"\"\"\n",
    "SELECT * FROM Tweets\n",
    "LIMIT 5\n",
    "\"\"\"\n",
    "\n",
    "run_query(query)"
   ]
  },
  {
   "cell_type": "markdown",
   "metadata": {},
   "source": [
    "For our analysis in this project, we're really only interested in a subset of columns from the `Tweets` table: `airline_sentiment` (which will serve as our target variable), `airline` (interesting primarily for some initial exploratory analysis moreso than sentiment prediction), and `text` (the content of each tweet, which we'll manipulate and prepare for use in model training/validation).\n",
    "\n",
    "Let's grab the data we want and save to a pandas dataframe."
   ]
  },
  {
   "cell_type": "code",
   "execution_count": 5,
   "metadata": {},
   "outputs": [
    {
     "data": {
      "text/html": [
       "<div>\n",
       "<style scoped>\n",
       "    .dataframe tbody tr th:only-of-type {\n",
       "        vertical-align: middle;\n",
       "    }\n",
       "\n",
       "    .dataframe tbody tr th {\n",
       "        vertical-align: top;\n",
       "    }\n",
       "\n",
       "    .dataframe thead th {\n",
       "        text-align: right;\n",
       "    }\n",
       "</style>\n",
       "<table border=\"1\" class=\"dataframe\">\n",
       "  <thead>\n",
       "    <tr style=\"text-align: right;\">\n",
       "      <th></th>\n",
       "      <th>text</th>\n",
       "      <th>airline</th>\n",
       "      <th>sentiment</th>\n",
       "    </tr>\n",
       "  </thead>\n",
       "  <tbody>\n",
       "    <tr>\n",
       "      <th>0</th>\n",
       "      <td>@JetBlue's new CEO seeks the right balance to ...</td>\n",
       "      <td>Delta</td>\n",
       "      <td>neutral</td>\n",
       "    </tr>\n",
       "    <tr>\n",
       "      <th>1</th>\n",
       "      <td>@JetBlue is REALLY getting on my nerves !! 😡😡 ...</td>\n",
       "      <td>Delta</td>\n",
       "      <td>negative</td>\n",
       "    </tr>\n",
       "    <tr>\n",
       "      <th>2</th>\n",
       "      <td>@united yes. We waited in line for almost an h...</td>\n",
       "      <td>United</td>\n",
       "      <td>negative</td>\n",
       "    </tr>\n",
       "    <tr>\n",
       "      <th>3</th>\n",
       "      <td>@united the we got into the gate at IAH on tim...</td>\n",
       "      <td>United</td>\n",
       "      <td>negative</td>\n",
       "    </tr>\n",
       "    <tr>\n",
       "      <th>4</th>\n",
       "      <td>@SouthwestAir its cool that my bags take a bit...</td>\n",
       "      <td>Southwest</td>\n",
       "      <td>negative</td>\n",
       "    </tr>\n",
       "    <tr>\n",
       "      <th>5</th>\n",
       "      <td>@united and don't hope for me having a nicer f...</td>\n",
       "      <td>United</td>\n",
       "      <td>negative</td>\n",
       "    </tr>\n",
       "    <tr>\n",
       "      <th>6</th>\n",
       "      <td>@united I like delays less than you because I'...</td>\n",
       "      <td>United</td>\n",
       "      <td>negative</td>\n",
       "    </tr>\n",
       "    <tr>\n",
       "      <th>7</th>\n",
       "      <td>@united, link to current status of flights/air...</td>\n",
       "      <td>United</td>\n",
       "      <td>negative</td>\n",
       "    </tr>\n",
       "    <tr>\n",
       "      <th>8</th>\n",
       "      <td>@SouthwestAir you guys there? Are we on hour 2...</td>\n",
       "      <td>Southwest</td>\n",
       "      <td>negative</td>\n",
       "    </tr>\n",
       "    <tr>\n",
       "      <th>9</th>\n",
       "      <td>@united I tried 2 DM it would not go thru... n...</td>\n",
       "      <td>United</td>\n",
       "      <td>negative</td>\n",
       "    </tr>\n",
       "  </tbody>\n",
       "</table>\n",
       "</div>"
      ],
      "text/plain": [
       "                                                text    airline sentiment\n",
       "0  @JetBlue's new CEO seeks the right balance to ...      Delta   neutral\n",
       "1  @JetBlue is REALLY getting on my nerves !! 😡😡 ...      Delta  negative\n",
       "2  @united yes. We waited in line for almost an h...     United  negative\n",
       "3  @united the we got into the gate at IAH on tim...     United  negative\n",
       "4  @SouthwestAir its cool that my bags take a bit...  Southwest  negative\n",
       "5  @united and don't hope for me having a nicer f...     United  negative\n",
       "6  @united I like delays less than you because I'...     United  negative\n",
       "7  @united, link to current status of flights/air...     United  negative\n",
       "8  @SouthwestAir you guys there? Are we on hour 2...  Southwest  negative\n",
       "9  @united I tried 2 DM it would not go thru... n...     United  negative"
      ]
     },
     "execution_count": 5,
     "metadata": {},
     "output_type": "execute_result"
    }
   ],
   "source": [
    "# save tweet_id, text, and airline_sentiment columns into dataframe\n",
    "\n",
    "filter_save_query = \"\"\"\n",
    "SELECT text, airline, airline_sentiment AS sentiment\n",
    "FROM Tweets\n",
    "\"\"\"\n",
    "\n",
    "data = run_query(filter_save_query)\n",
    "data.head(10)"
   ]
  },
  {
   "cell_type": "markdown",
   "metadata": {},
   "source": [
    "## Exploring The Data\n",
    "\n",
    "Now that we have the data we want, let's do a little exploratory analysis."
   ]
  },
  {
   "cell_type": "code",
   "execution_count": 6,
   "metadata": {},
   "outputs": [
    {
     "name": "stdout",
     "output_type": "stream",
     "text": [
      "<class 'pandas.core.frame.DataFrame'>\n",
      "RangeIndex: 14485 entries, 0 to 14484\n",
      "Data columns (total 3 columns):\n",
      " #   Column     Non-Null Count  Dtype \n",
      "---  ------     --------------  ----- \n",
      " 0   text       14485 non-null  object\n",
      " 1   airline    14485 non-null  object\n",
      " 2   sentiment  14485 non-null  object\n",
      "dtypes: object(3)\n",
      "memory usage: 339.6+ KB\n"
     ]
    }
   ],
   "source": [
    "data.info()"
   ]
  },
  {
   "cell_type": "markdown",
   "metadata": {},
   "source": [
    "### Tweet Sentiments\n",
    "\n",
    "Let's first take a look at what labels/categories are used in the `sentiment` column."
   ]
  },
  {
   "cell_type": "code",
   "execution_count": 7,
   "metadata": {},
   "outputs": [
    {
     "data": {
      "text/plain": [
       "array(['neutral', 'negative', 'positive'], dtype=object)"
      ]
     },
     "execution_count": 7,
     "metadata": {},
     "output_type": "execute_result"
    }
   ],
   "source": [
    "data.sentiment.unique()"
   ]
  },
  {
   "cell_type": "markdown",
   "metadata": {},
   "source": [
    "All of the tweets are classified as either `positive`, `neutral`, or `negative`.  Of note is the fact that this column (which, again, will be our target variable when it comes to predictive modeling) includes a \"neutral\" value, making this more than just a binary classification problem.  Something to keep in mind as we go forward.\n",
    "\n",
    "For now, let's get a feel for what types of tweets are categorized as positive, neutral, and negative."
   ]
  },
  {
   "cell_type": "code",
   "execution_count": 8,
   "metadata": {},
   "outputs": [
    {
     "name": "stdout",
     "output_type": "stream",
     "text": [
      "@SouthwestAir nice work on the update!\n",
      "@JetBlue Thanks! Her flight leaves at 2 but she's arriving to the airport early. Wedding is in VT in Sept. Grateful you fly to BTV!! :)\n",
      "@JetBlue No worries. Delay was minor and dealt with nicely. It was captain of flight 2324 by the way.\n",
      "@united New Apple crâpe, amazing! Live from UA1207. Really nice crew too.  #AmericanAir has biscuits, UA needs them 2 http://t.co/gZ9GqDT7Jj\n",
      "@SouthwestAir thanks do yall expect to be operational tomorrow out of Nashville?\n"
     ]
    }
   ],
   "source": [
    "# print first 5 positive-labeled tweets' content\n",
    "for t in data.loc[data.sentiment == \"positive\", \"text\"].head().values:\n",
    "    print(t)"
   ]
  },
  {
   "cell_type": "code",
   "execution_count": 9,
   "metadata": {},
   "outputs": [
    {
     "name": "stdout",
     "output_type": "stream",
     "text": [
      "@JetBlue is REALLY getting on my nerves !! 😡😡 #nothappy\n",
      "@united yes. We waited in line for almost an hour to do so. Some passengers just left not wanting to wait past 1am.\n",
      "@united the we got into the gate at IAH on time and have given our seats and closed the flight. If you know people is arriving, have to wait\n",
      "@SouthwestAir its cool that my bags take a bit longer, dont give me baggage blue balls-turn the carousel on, tell me it's coming, then not.\n",
      "@united and don't hope for me having a nicer flight some other time, try to do things right. You sold me those tickets with that connetion\n"
     ]
    }
   ],
   "source": [
    "# print first 5 negative-labeled tweets' content\n",
    "\n",
    "for t in data.loc[data.sentiment == \"negative\", \"text\"].head().values:\n",
    "    print(t)"
   ]
  },
  {
   "cell_type": "code",
   "execution_count": 10,
   "metadata": {},
   "outputs": [
    {
     "name": "stdout",
     "output_type": "stream",
     "text": [
      "@JetBlue's new CEO seeks the right balance to please passengers and Wall ... - Greenfield Daily Reporter http://t.co/LM3opxkxch\n",
      "@united even though technically after I land I will be silver?\n",
      "@USAirways how's us 1797 looking today?\n",
      "@JetBlue CEO weighs profits, flyers - @ChronicleHerald (registration) http://t.co/l2n0egHdgn\n",
      "@SouthwestAir Is it a temporary site glitch or are you no longer offering flights from GRR to GEG after Feb? Can't find any online :(\n"
     ]
    }
   ],
   "source": [
    "# print first 5 neutral-labeled tweets' content\n",
    "\n",
    "for t in data.loc[data.sentiment == \"neutral\", \"text\"].head().values:\n",
    "    print(t)"
   ]
  },
  {
   "cell_type": "markdown",
   "metadata": {},
   "source": [
    "At a glance, we can make these rough observations about each category of tweets:\n",
    "\n",
    "**Positive**-labeled tweets tend to:\n",
    "- Be complimentary of an airline or flight experience\n",
    "- Express a sense of gratefulness\n",
    "\n",
    "**Negative**-labeled tweets tend to:\n",
    "- Be critical or an airline or flight experience\n",
    "- Express a sense of frustration or anger\n",
    "- Include some form of recommendation for \"what should have happened\" or \"what should happen next time instead\"\n",
    "\n",
    "**Neutral**-labeled tweets tend to:\n",
    "- Include simple facts or information about an airline/flights\n",
    "- Be questions with little language that skews \"happy/grateful\" or \"frustrated/angry\""
   ]
  },
  {
   "cell_type": "markdown",
   "metadata": {},
   "source": [
    "### Distribution of Tweet Sentiment Labels\n",
    "\n",
    "Let's now take a look at the distribution of the `sentiment` variable."
   ]
  },
  {
   "cell_type": "code",
   "execution_count": 11,
   "metadata": {},
   "outputs": [
    {
     "data": {
      "text/plain": [
       "positive    2334\n",
       "neutral     3069\n",
       "negative    9082\n",
       "Name: sentiment, dtype: int64"
      ]
     },
     "execution_count": 11,
     "metadata": {},
     "output_type": "execute_result"
    }
   ],
   "source": [
    "# establish counts for each sentiment type, sorted postive > neutral > negative\n",
    "\n",
    "sentiment_counts = data.sentiment.value_counts()[[\"positive\", \"neutral\", \"negative\"]]\n",
    "sentiment_counts"
   ]
  },
  {
   "cell_type": "code",
   "execution_count": 12,
   "metadata": {},
   "outputs": [
    {
     "data": {
      "image/png": "[encoded data removed]",
      "text/plain": [
       "<Figure size 720x504 with 1 Axes>"
      ]
     },
     "metadata": {
      "needs_background": "light"
     },
     "output_type": "display_data"
    }
   ],
   "source": [
    "# visualize sentiment count distribution\n",
    "\n",
    "sentiment_counts.plot.bar(figsize=(10,7))\n",
    "plt.xticks(rotation=0)\n",
    "\n",
    "for i, val in enumerate(sentiment_counts.values):\n",
    "    plt.text(i, val / 2, val, horizontalalignment=\"center\", color=\"white\", weight = \"bold\")\n",
    "    \n",
    "plt.title(\"Distribution of sentiment values\")\n",
    "    \n",
    "plt.show()"
   ]
  },
  {
   "cell_type": "markdown",
   "metadata": {},
   "source": [
    "Somewhat unsurprisingly, the number of negative sentiment tweets vastly outnumbers positive or neutral tweets.\n",
    "\n",
    "Per [ReviewTrackers.com](https://www.reviewtrackers.com/reports/online-reviews-survey/#:~:text=A%20consumer%20is%2021%20percent,actually%20advocate%20on%20their%20behalf.) (who have done studies on customer feedback in various industries), \"a consumer is 21 percent more likely to leave a review after a negative experience than a positive one.\"  Of course, in our distribution, the sum of negative tweets is much greater than 21% more than the sum of positive reviews; but the trend mentioned shines true here, nonetheless.\n",
    "\n",
    "### Sentiment Distribution and Total Tweet Counts Per Airline\n",
    "\n",
    "What might also be interesting is to see how each airline breaks down - do tweet sentiment distributions indicate better overall customer experiences with some airlines than others?  Let's visualize the distribution of positive/neutral/negative tweets per airline to see if there are any overall trends."
   ]
  },
  {
   "cell_type": "code",
   "execution_count": 13,
   "metadata": {},
   "outputs": [
    {
     "data": {
      "image/png": "[encoded data removed]",
      "text/plain": [
       "<Figure size 720x504 with 1 Axes>"
      ]
     },
     "metadata": {
      "needs_background": "light"
     },
     "output_type": "display_data"
    }
   ],
   "source": [
    "# create pivot table to represent distribution of each sentiment category per airline\n",
    "airline_counts = pd.pivot_table(data[[\"sentiment\", \"airline\"]], index = \"airline\", columns = \"sentiment\", aggfunc = len)\n",
    "\n",
    "# reorder pivot table columns to reflect same Pos > Neut > Neg order as above\n",
    "airline_counts = airline_counts.reindex([\"positive\", \"neutral\", \"negative\"], axis = 1)\n",
    "\n",
    "airline_counts.plot(kind=\"bar\", figsize = (10, 7), color = [\"green\", \"blue\", \"red\"])\n",
    "plt.xticks(rotation = 0)\n",
    "ax = plt.axes()\n",
    "ax.xaxis.label.set_visible(False) # hide `airline` column name from x axis labeling on plot\n",
    "plt.show()"
   ]
  },
  {
   "cell_type": "markdown",
   "metadata": {},
   "source": [
    "From the above plot, we can see that United, US Airways, and American were all representative of distributions where negative tweets vastly outnumbered positive or neutral.  Delta and Southwest approached a more even distribution (though still following the pattern of negative being the largest segment, followed by neutral, and finally positive); and Virgin America, while also making up the smallest subset of tweets from the dataset, was the closest to an even distribution among the sentiments.\n",
    "\n",
    "Finally, let's take a look at the tweet totals per airline, to get a since for how the airlines break down in terms of total Twitter activity."
   ]
  },
  {
   "cell_type": "code",
   "execution_count": 14,
   "metadata": {},
   "outputs": [
    {
     "data": {
      "image/png": "[encoded data removed]",
      "text/plain": [
       "<Figure size 720x504 with 1 Axes>"
      ]
     },
     "metadata": {
      "needs_background": "light"
     },
     "output_type": "display_data"
    }
   ],
   "source": [
    "# Create series of totals per airline\n",
    "airline_totals = data.airline.value_counts()\n",
    "\n",
    "# Create bar plot including displaying total values\n",
    "airline_totals.plot.bar(figsize=(10,7))\n",
    "plt.xticks(rotation=0)\n",
    "\n",
    "for i, val in enumerate(airline_totals.values):\n",
    "    plt.text(i, val / 2, val, horizontalalignment=\"center\", color=\"white\", weight = \"bold\")\n",
    "    \n",
    "plt.title(\"Total tweets in dataset per airline\")\n",
    "    \n",
    "plt.show()"
   ]
  },
  {
   "cell_type": "markdown",
   "metadata": {},
   "source": [
    "United stands alone with the most tweets at 3822; followed by a middle tier of US Airways, American, Southwest, and Delta (all between ~2200 and ~2900); with Virgin America far and away the smallest total at 504.\n",
    "\n",
    "Nevertheless, this isn't inherently useful for us going forward, as we'll be using purely tweet text for our sentiment analysis predictive modeling task.\n",
    "\n",
    "Let's move forward to preprocessing our tweet text data in preparation for training our model(s)."
   ]
  },
  {
   "cell_type": "markdown",
   "metadata": {},
   "source": [
    "## Preprocessing Tweet Text Data\n",
    "\n",
    "We're going to employ the power of the spaCy library, combined with scikit-learn, to help us preprocess our data."
   ]
  },
  {
   "cell_type": "code",
   "execution_count": 15,
   "metadata": {},
   "outputs": [],
   "source": [
    "from sklearn.feature_extraction.text import CountVectorizer, TfidfTransformer # for tokenization/generating a DTM with TF-IDF applied\n",
    "from sklearn.base import TransformerMixin # for creating custom transformers for use in our pipeline\n",
    "from sklearn.pipeline import Pipeline # for creating a function pipeline for our ML workflow"
   ]
  },
  {
   "cell_type": "markdown",
   "metadata": {},
   "source": [
    "Let's take a look at the first several rows of tweet contents to familiarize ourselves with how we ought to clean it."
   ]
  },
  {
   "cell_type": "code",
   "execution_count": 16,
   "metadata": {},
   "outputs": [
    {
     "name": "stdout",
     "output_type": "stream",
     "text": [
      "@JetBlue's new CEO seeks the right balance to please passengers and Wall ... - Greenfield Daily Reporter http://t.co/LM3opxkxch\n",
      "@JetBlue is REALLY getting on my nerves !! 😡😡 #nothappy\n",
      "@united yes. We waited in line for almost an hour to do so. Some passengers just left not wanting to wait past 1am.\n",
      "@united the we got into the gate at IAH on time and have given our seats and closed the flight. If you know people is arriving, have to wait\n",
      "@SouthwestAir its cool that my bags take a bit longer, dont give me baggage blue balls-turn the carousel on, tell me it's coming, then not.\n",
      "@united and don't hope for me having a nicer flight some other time, try to do things right. You sold me those tickets with that connetion\n",
      "@united I like delays less than you because I'm the one on the plane. Connect me with a voucher\n",
      "@united, link to current status of flights/airports? Fly BWI-EWR-MCO this morning yet can't yet tell what any problems are except see snow.\n",
      "@SouthwestAir you guys there? Are we on hour 2 of our phone hold at 3am bc of volume or short staffing?\n",
      "@united I tried 2 DM it would not go thru... not sure why\n"
     ]
    }
   ],
   "source": [
    "for line in data[\"text\"].head(10):\n",
    "    print(line)"
   ]
  },
  {
   "cell_type": "markdown",
   "metadata": {},
   "source": [
    "On first glance, it appears we'll want to address:\n",
    "- white spaces at the beginning (and end) of tweet text\n",
    "- Twitter handles\n",
    "- punctuation\n",
    "- stop-words\n",
    "- single letters (\"r\", \"u\", \"y\") (a couple of which are included in stop-words)\n",
    "- numbers (\"words\" that are only numbers)\n",
    "- links\n",
    "- ellipses (or any string of 2+ consecutive punctuation marks that wouldn't be handled by normal punctuation elimination)\n",
    "- \"RT\" (not visible in the above list, but often appears at the beginning of \"retweets\"; carries no meaning for our analysis)"
   ]
  },
  {
   "cell_type": "markdown",
   "metadata": {},
   "source": [
    "### Initial Text Cleaning (Including Removal of Twitter Handles and Links)\n",
    "\n",
    "First, let's create a custom transformer (which inherits from scikit-learn's `TransformerMixIn`) to remove twitter handles from our tweets; a majority of which are the handles for the airlines themselves (which were likely used as the basis for pulling the data from Twitter in the first place).\n",
    "\n",
    "For now, we're going to treat them as though they don't provide any real information (though there is an argument to be made that because the probability values of positive vs. neutral vs. negative for each airline vary a bit, including them could actually have some impact on the outcome of our model training; something that could be explored later on).\n",
    "\n",
    "In addition, this initial text-cleaning transformer will:\n",
    "- remove links (relatively simple given Twitter automatically converts all links to \"t.co\" shortened versions\n",
    "- remove \"RT\" (which simply represents \"re-tweeting\"/re-posting) from the beginning of Tweets where applicable"
   ]
  },
  {
   "cell_type": "code",
   "execution_count": 17,
   "metadata": {},
   "outputs": [
    {
     "data": {
      "text/plain": [
       "\"@JetBlue's new CEO seeks the right balance to please passengers and Wall ... - Greenfield Daily Reporter \""
      ]
     },
     "execution_count": 17,
     "metadata": {},
     "output_type": "execute_result"
    }
   ],
   "source": [
    "# demonstration of the method we'll use to remove Twitter-shortened links\n",
    "text_no_links = data[\"text\"].str.replace(\"https?\\://t\\.co/\\w+\", \"\")\n",
    "text_no_links[0]"
   ]
  },
  {
   "cell_type": "code",
   "execution_count": 18,
   "metadata": {},
   "outputs": [],
   "source": [
    "# create custom transformer for initial cleaning\n",
    "class TextCleaner(TransformerMixin):\n",
    "    def transform(self, X, y = None):\n",
    "        # remove handles (including logic for any trailing \"'s\" where applicable)\n",
    "        X = X.str.replace(\"@\\w+'?s?\", \"\")\n",
    "        \n",
    "        # remove \"t.co\" shortened links\n",
    "        X = X.str.replace(\"https?\\://t\\.co/\\w+\", \"\")\n",
    "        \n",
    "        # remove \"RT\" from the start of tweets\n",
    "        X = X.str.replace(\"^RT\", \"\")\n",
    "        \n",
    "        return X\n",
    "\n",
    "    def fit(self, X, y=None):\n",
    "        return self"
   ]
  },
  {
   "cell_type": "code",
   "execution_count": 19,
   "metadata": {},
   "outputs": [
    {
     "name": "stdout",
     "output_type": "stream",
     "text": [
      " new CEO seeks the right balance to please passengers and Wall ... - Greenfield Daily Reporter \n",
      " is REALLY getting on my nerves !! 😡😡 #nothappy\n",
      " yes. We waited in line for almost an hour to do so. Some passengers just left not wanting to wait past 1am.\n",
      " the we got into the gate at IAH on time and have given our seats and closed the flight. If you know people is arriving, have to wait\n",
      " its cool that my bags take a bit longer, dont give me baggage blue balls-turn the carousel on, tell me it's coming, then not.\n"
     ]
    }
   ],
   "source": [
    "# test TextCleaner on dataframe's text column\n",
    "cleaner = TextCleaner()\n",
    "\n",
    "for line in cleaner.transform(data[\"text\"]).head():\n",
    "    print(line)"
   ]
  },
  {
   "cell_type": "markdown",
   "metadata": {},
   "source": [
    "### Creating a Tokenizer\n",
    "\n",
    "Now we're going to move on to the tokenization of our text data in order to further prepare it for use in modeling.  We're going to use [spaCy](https://spacy.io/), a comprehensive NLP-focused package that provides a range of tools & features for text manipulation and preprocessing (such as dependency parsing, part-of-speech tagging, word vectors, etc); and shares a lot in common with NLTK while providing a variety of additional power.\n",
    "\n",
    "Let's import spaCy (and the appropriate language model for it, `en_core_web_sm`, which must be installed first) in order to proceed with tokenization.\n",
    "\n",
    "Our tokenizer will not only split up the text of each tweet and generate what is effectively a document-term matrix, but will also assist in the remaining simple preprocessing tasks:\n",
    "- convert all applicable tokens (words) to their lemmatized forms (i.e. `buy`, `buying`, `buys` all carry the same meaning and are normalized/converted to one base form, `buy`)\n",
    "- remove stop-words (very common words that add little to no information when it comes to an analysis/predictive model)\n",
    "- remove punctuation\n",
    "- make all tokens lowercase\n",
    "- remove any tokens that are just numbers or single letters\n",
    "\n",
    "*Note*: spaCy's `STOP_WORDS` collection includes `no`, `not`, `never`, and `n't`.  As we're doing a sentiment analysis task, these \"tokens of negation\" might actually be very influential in training/testing our model(s).  Thus, after we import this collection, we'll customize it by removing them from it, so they aren't filtered out of our tweets during preprocessing.\n",
    "\n",
    "We'll also leave the option of *not* removing stop-words available (so we can try a comparison, later, if desired) by including a True/False parameter in our tokenization function."
   ]
  },
  {
   "cell_type": "code",
   "execution_count": 20,
   "metadata": {},
   "outputs": [],
   "source": [
    "import string\n",
    "import spacy\n",
    "import re\n",
    "\n",
    "# load English language model for parsing/annotation with spaCy\n",
    "nlp = spacy.load('en_core_web_sm')\n",
    "\n",
    "# import spaCy stop-words collection\n",
    "stop_words = spacy.lang.en.stop_words.STOP_WORDS\n",
    "\n",
    "# remove tokens of negation from stop-words collection\n",
    "negation_tokens = [\"no\", \"not\", \"never\", \"n't\"]\n",
    "for token in negation_tokens:\n",
    "    stop_words.remove(token)\n",
    "\n",
    "# create list of punctuation\n",
    "punctuation = string.punctuation\n",
    "\n",
    "# Creating our tokenizer function\n",
    "def spacy_tokenizer(sentence, remove_stopwords = True):\n",
    "    # Create token objects from sentence\n",
    "    # all tokens have several available annotations/properties like <token>.pos_, which contains the token's part-of-speech\n",
    "    tokens = nlp(sentence)\n",
    "\n",
    "    # lemmatize each token if not a proper noun (spaCy \"lemmatizes\" all proper nouns to \"-PRON-\", which we don't want)\n",
    "    tokens = [word.lemma_.lower().strip() if word.lemma_ != \"-PRON-\" else word.lower_ for word in tokens]\n",
    "\n",
    "    # filter out both stop words & punctuation if remove_stopwords == True, otherwise just punctuation\n",
    "    # as well as single letter tokens\n",
    "    if remove_stopwords == True:\n",
    "        tokens = [word for word in tokens if word not in stop_words and word not in punctuation and re.sub(\"\\b[a-z]\\b\", \"\", word) != \"\"]\n",
    "    else:\n",
    "        tokens = [word for word in tokens if word not in punctuation and re.sub(\"\\b[a-z]\\b\", \"\", word) != \"\"]\n",
    "    \n",
    "    # filter out ellipses (or any string of 2+ consecutive periods) and tokens that are just 1+ numbers\n",
    "    tokens = [word for word in tokens if re.sub(\"\\.{2,}\", \"\", word) != \"\" and re.sub(\"[0-9]+\", \"\", word) != \"\"]\n",
    "\n",
    "    # return preprocessed list of tokens\n",
    "    return tokens"
   ]
  },
  {
   "cell_type": "code",
   "execution_count": 21,
   "metadata": {},
   "outputs": [
    {
     "data": {
      "text/plain": [
       "\"@united and don't hope for me having a nicer flight some other time, try to do things right. You sold me those tickets with that connetion\""
      ]
     },
     "execution_count": 21,
     "metadata": {},
     "output_type": "execute_result"
    }
   ],
   "source": [
    "# print unprocessed text content of a sample entry in our data\n",
    "sample_text = data[\"text\"].iloc[5]\n",
    "sample_text"
   ]
  },
  {
   "cell_type": "code",
   "execution_count": 22,
   "metadata": {},
   "outputs": [
    {
     "data": {
      "text/plain": [
       "['@united',\n",
       " 'not',\n",
       " 'hope',\n",
       " 'nicer',\n",
       " 'flight',\n",
       " 'time',\n",
       " 'try',\n",
       " 'thing',\n",
       " 'right',\n",
       " 'sell',\n",
       " 'ticket',\n",
       " 'connetion']"
      ]
     },
     "execution_count": 22,
     "metadata": {},
     "output_type": "execute_result"
    }
   ],
   "source": [
    "# test spacy_tokenizer on the above sentence (will not include TextCleaner preprocessing)\n",
    "spacy_tokenizer(sample_text)"
   ]
  },
  {
   "cell_type": "markdown",
   "metadata": {},
   "source": [
    "Now we'll save (using the `compress_pickle` package) a cleaned and tokenized version of our whole dataset for later use."
   ]
  },
  {
   "cell_type": "code",
   "execution_count": 23,
   "metadata": {},
   "outputs": [
    {
     "data": {
      "text/plain": [
       "0    new ceo seek right balance passenger wall gree...\n",
       "1                                   nerve 😡 😡 nothappy\n",
       "2    yes wait line hour passenger leave not want wa...\n",
       "3    gate iah time seat close flight know people ar...\n",
       "4    cool bag bit longer not baggage blue ball turn...\n",
       "Name: text, dtype: object"
      ]
     },
     "execution_count": 23,
     "metadata": {},
     "output_type": "execute_result"
    }
   ],
   "source": [
    "processed_text = cleaner.transform(data[\"text\"]).apply(spacy_tokenizer).apply(lambda x: \" \".join(x)).str.strip()\n",
    "processed_text.head()"
   ]
  },
  {
   "cell_type": "code",
   "execution_count": 24,
   "metadata": {},
   "outputs": [
    {
     "data": {
      "text/html": [
       "<div>\n",
       "<style scoped>\n",
       "    .dataframe tbody tr th:only-of-type {\n",
       "        vertical-align: middle;\n",
       "    }\n",
       "\n",
       "    .dataframe tbody tr th {\n",
       "        vertical-align: top;\n",
       "    }\n",
       "\n",
       "    .dataframe thead th {\n",
       "        text-align: right;\n",
       "    }\n",
       "</style>\n",
       "<table border=\"1\" class=\"dataframe\">\n",
       "  <thead>\n",
       "    <tr style=\"text-align: right;\">\n",
       "      <th></th>\n",
       "      <th>text</th>\n",
       "      <th>sentiment</th>\n",
       "    </tr>\n",
       "  </thead>\n",
       "  <tbody>\n",
       "    <tr>\n",
       "      <th>0</th>\n",
       "      <td>new ceo seek right balance passenger wall gree...</td>\n",
       "      <td>neutral</td>\n",
       "    </tr>\n",
       "    <tr>\n",
       "      <th>1</th>\n",
       "      <td>nerve 😡 😡 nothappy</td>\n",
       "      <td>negative</td>\n",
       "    </tr>\n",
       "    <tr>\n",
       "      <th>2</th>\n",
       "      <td>yes wait line hour passenger leave not want wa...</td>\n",
       "      <td>negative</td>\n",
       "    </tr>\n",
       "    <tr>\n",
       "      <th>3</th>\n",
       "      <td>gate iah time seat close flight know people ar...</td>\n",
       "      <td>negative</td>\n",
       "    </tr>\n",
       "    <tr>\n",
       "      <th>4</th>\n",
       "      <td>cool bag bit longer not baggage blue ball turn...</td>\n",
       "      <td>negative</td>\n",
       "    </tr>\n",
       "  </tbody>\n",
       "</table>\n",
       "</div>"
      ],
      "text/plain": [
       "                                                text sentiment\n",
       "0  new ceo seek right balance passenger wall gree...   neutral\n",
       "1                                 nerve 😡 😡 nothappy  negative\n",
       "2  yes wait line hour passenger leave not want wa...  negative\n",
       "3  gate iah time seat close flight know people ar...  negative\n",
       "4  cool bag bit longer not baggage blue ball turn...  negative"
      ]
     },
     "execution_count": 24,
     "metadata": {},
     "output_type": "execute_result"
    }
   ],
   "source": [
    "processed_df = processed_text.to_frame()\n",
    "processed_df[\"sentiment\"] = data[\"sentiment\"]\n",
    "processed_df.head()"
   ]
  },
  {
   "cell_type": "code",
   "execution_count": 27,
   "metadata": {},
   "outputs": [],
   "source": [
    "compress_pickle.dump(processed_df, \"processed_df.gz\")"
   ]
  },
  {
   "cell_type": "code",
   "execution_count": 28,
   "metadata": {},
   "outputs": [
    {
     "data": {
      "text/plain": [
       "299355"
      ]
     },
     "execution_count": 28,
     "metadata": {},
     "output_type": "execute_result"
    }
   ],
   "source": [
    "import os\n",
    "os.path.getsize(\"processed_df.gz\")"
   ]
  },
  {
   "cell_type": "markdown",
   "metadata": {},
   "source": [
    "## Generating a Preprocessing Pipeline and Testing Logistic Regression\n",
    "\n",
    "Our text modification functions are ready, so let's move forward and create an additional function that will generate a vectorizer, or a transformer that will convert our text data into a bag-of-words/document-term matrix (which, in its basic form, will contain all unique words as features/columns and counts of each word as column values for each observation) when we pass in scikit-learn's `CountVectorizer`.\n",
    "\n",
    "We'll then create another function to construct a scikit-learn pipeline that includes the vectorizer, tokenizer, and an optional estimator (model); as well as allows for the option of applying TF-IDF (\"term frequency - inverse document frequency\") transformation to the count values in the matrix.  TF-IDF transformation applies a mathematical adjustment to the count values for each document based on the \"importance\" of each token (and has been suggested to provide a modeling performance boost in some cases)."
   ]
  },
  {
   "cell_type": "code",
   "execution_count": 29,
   "metadata": {},
   "outputs": [],
   "source": [
    "# function to create a vectorizer that will generate a bag-of-words/document-term matrix\n",
    "# allows for choice of vectorizer, and a custom tokenizer or default\n",
    "# also allows specification of ngram_range: (1, 1) by default for single word tokens only\n",
    "\n",
    "def create_dtm(vectorizer, tokenizer = None, ngram_range = (1, 1)):\n",
    "    if tokenizer:\n",
    "        return vectorizer(tokenizer = tokenizer, ngram_range = ngram_range)\n",
    "    else:\n",
    "        return vectorizer(ngram_range = ngram_range)"
   ]
  },
  {
   "cell_type": "code",
   "execution_count": 30,
   "metadata": {},
   "outputs": [],
   "source": [
    "# function to generate a pipeline with estimator & TF-IDF transformation both optional\n",
    "\n",
    "def create_pipeline(vectorizer, tokenizer, estimator = None, tfidf = False):\n",
    "    vectorizer = create_dtm(vectorizer, tokenizer)\n",
    "    \n",
    "    steps = list()\n",
    "    steps.append((\"cleaner\", TextCleaner()))\n",
    "    steps.append((\"vectorizer\", vectorizer))\n",
    "    if tfidf:\n",
    "        steps.append(('tfidf_transform', TfidfTransformer()))\n",
    "    if estimator:\n",
    "        steps.append((\"model\", estimator))\n",
    "    \n",
    "    return Pipeline(steps = steps)"
   ]
  },
  {
   "cell_type": "markdown",
   "metadata": {},
   "source": [
    "Now that we've created the ability to generate a bag-of-words/frequency matrix and transformation (+ model) pipeline, let's split up our data and test what we've done using a basic logistic regression model.  Because our transformation pipeline can take some time to run on our dataset, we're going to instantiate two separate pipelines (one without TF-IDF transformation applied, and one with), and transform our data into two separate train/test sets, accordingly, to save time as we move forward and try various models (and apply grid search) with each.\n",
    "\n",
    "We'll use simple accuracy score as our evaluation metric throughout this project, primarly given our target variable containing more than 2 categories.\n",
    "\n",
    "*Note*: The first part of the immediate next cell below (commented out) is both the actual splitting and transforming, as well as saving (again, using the `compress_pickle` package) of both our counts-based and TF-IDF-transformed splits for later use.  Below that (not commented) is the loading of those objects from the files.  If the saved files (`count_split.gz` and `tfidf_split.gz`) aren't available, make sure to uncomment (remove the sets of triple quotes) and run the `SPLIT, TRANSFORM, AND SAVE (PICKLE) DATA SPLITS` segment.  The running of `split_and_transform` (twice) can take up to a few minutes, depending on computer performance, because of the use of spaCy."
   ]
  },
  {
   "cell_type": "code",
   "execution_count": 34,
   "metadata": {},
   "outputs": [
    {
     "data": {
      "text/plain": [
       "((10863, 9371), (3622, 9371), (10863,), (3622,))"
      ]
     },
     "execution_count": 34,
     "metadata": {},
     "output_type": "execute_result"
    }
   ],
   "source": [
    "### SPLIT, TRANSFORM, AND SAVE (PICKLE) DATA SPLITS ###\n",
    "\n",
    "\"\"\"\n",
    "from sklearn.model_selection import train_test_split\n",
    "\n",
    "# function to divide data into train and test sets, then transform X using transformation pipeline; random_state set by default\n",
    "def split_and_transform(vectorizer, tokenizer, X, y, test_size = 0.25, tfidf = False, random_state = 1):\n",
    "    # split data\n",
    "    X_train, X_test, y_train, y_test = train_test_split(X, y, test_size = test_size, random_state = random_state)\n",
    "    \n",
    "    # generate transformation pipeline\n",
    "    transform_pipe = create_pipeline(vectorizer, tokenizer, estimator = None, tfidf = tfidf)\n",
    "    \n",
    "    # fit pipeline to training data\n",
    "    transform_pipe.fit(X_train)\n",
    "    \n",
    "    # create transformed versions of X_train and X_test\n",
    "    X_train = transform_pipe.transform(X_train).toarray()\n",
    "    X_test = transform_pipe.transform(X_test).toarray()\n",
    "    \n",
    "    return X_train, X_test, y_train, y_test\n",
    "\n",
    "# generate count-only and TF-IDF-transformed versions of train/test splits\n",
    "X_train_count, X_test_count, y_train, y_test = split_and_transform(CountVectorizer, spacy_tokenizer, data[\"text\"], data[\"sentiment\"])\n",
    "X_train_tfidf, X_test_tfidf, y_train, y_test = split_and_transform(CountVectorizer, spacy_tokenizer, data[\"text\"], data[\"sentiment\"], tfidf = True)\n",
    "\n",
    "# pickle post-split/transform data for easy import later\n",
    "compress_pickle.dump(split_and_transform(CountVectorizer, spacy_tokenizer, data[\"text\"], data[\"sentiment\"]), \"count_split.gz\")\n",
    "\n",
    "compress_pickle.dump(split_and_transform(CountVectorizer, spacy_tokenizer, data[\"text\"], data[\"sentiment\"], tfidf = True), \"tfidf_split.gz\")\n",
    "\n",
    "# check shapes of resulting\n",
    "X_train_count.shape, X_test_count.shape, y_train.shape, y_test.shape\n",
    "\n",
    "\"\"\"\n",
    "\n",
    "### LOAD SAVED OBJECTS ###\n",
    "\n",
    "# retrieve compressed-pickled files\n",
    "X_train_count, X_test_count, y_train, y_test = compress_pickle.load(\"count_split.gz\")\n",
    "X_train_tfidf, X_test_tfidf, y_train, y_test = compress_pickle.load(\"tfidf_split.gz\")\n",
    "    \n",
    "# check shapes of resulting\n",
    "X_train_count.shape, X_test_count.shape, y_train.shape, y_test.shape"
   ]
  },
  {
   "cell_type": "code",
   "execution_count": 35,
   "metadata": {},
   "outputs": [],
   "source": [
    "from sklearn.linear_model import LogisticRegression\n",
    "from sklearn.model_selection import cross_val_score\n",
    "import time\n",
    "\n",
    "# create results dict to store mean and standard deviation of CV scores for each model as we evaluate them\n",
    "results = {}\n",
    "\n",
    "# create function to evaluate a model\n",
    "def evaluate_model(model, model_name, X, y, folds = 5, metric = \"accuracy\", n_jobs = None):\n",
    "    print(\"Running cross-validation on model: \" + model_name)\n",
    "    time_before = time.time()\n",
    "    scores = cross_val_score(model, X, y, scoring = metric, cv = folds, n_jobs = n_jobs)\n",
    "    time_after = time.time()\n",
    "    print(\"Done in {} seconds.\".format(round(time_after - time_before, 2)))\n",
    "    return scores"
   ]
  },
  {
   "cell_type": "code",
   "execution_count": 38,
   "metadata": {},
   "outputs": [
    {
     "name": "stdout",
     "output_type": "stream",
     "text": [
      "Running cross-validation on model: logistic regression\n",
      "Done in 50.45 seconds.\n"
     ]
    },
    {
     "data": {
      "text/plain": [
       "array([0.80947998, 0.7740451 , 0.7804878 , 0.77854512, 0.7771639 ])"
      ]
     },
     "execution_count": 38,
     "metadata": {},
     "output_type": "execute_result"
    }
   ],
   "source": [
    "lr_scores = evaluate_model(LogisticRegression(), \"logistic regression\", X_train_count, y_train, n_jobs = -1)\n",
    "lr_scores"
   ]
  },
  {
   "cell_type": "markdown",
   "metadata": {},
   "source": [
    "As this is a multiclass classification problem with more than 2 possible labels, it's possible that taking a one-versus-rest approach (dividing the approach into multiple binary classification tasks) could have a positive impact on performance.  Let's test it using scikit-learn's `OneVsRestClassifier` with logistic regression."
   ]
  },
  {
   "cell_type": "code",
   "execution_count": 39,
   "metadata": {},
   "outputs": [
    {
     "name": "stdout",
     "output_type": "stream",
     "text": [
      "Running cross-validation on model: logistic regression, OVR\n",
      "Done in 67.52 seconds.\n"
     ]
    },
    {
     "data": {
      "text/plain": [
       "array([0.81178095, 0.78462954, 0.78416935, 0.78038674, 0.78683241])"
      ]
     },
     "execution_count": 39,
     "metadata": {},
     "output_type": "execute_result"
    }
   ],
   "source": [
    "from sklearn.multiclass import OneVsRestClassifier\n",
    "\n",
    "lr_ovr_scores = evaluate_model(OneVsRestClassifier(LogisticRegression()), \"logistic regression, OVR\", X_train_count, y_train, n_jobs = -1)\n",
    "lr_ovr_scores"
   ]
  },
  {
   "cell_type": "code",
   "execution_count": 40,
   "metadata": {},
   "outputs": [
    {
     "name": "stdout",
     "output_type": "stream",
     "text": [
      "logistic regression:\n",
      "0.7839443818705882 0.01293937779838121\n",
      "\n",
      "logistic regression, OVR:\n",
      "0.7895597992777593 0.011302454987577147\n"
     ]
    }
   ],
   "source": [
    "# show mean and standard deviation (as an indicator of variance) of cross-validation scores\n",
    "# for base logistic regression and logistic regression with one-vs-rest applied\n",
    "\n",
    "print(\"logistic regression:\")\n",
    "print(np.mean(lr_scores), np.std(lr_scores))\n",
    "print(\"\")\n",
    "print(\"logistic regression, OVR:\")\n",
    "print(np.mean(lr_ovr_scores), np.std(lr_ovr_scores))"
   ]
  },
  {
   "cell_type": "markdown",
   "metadata": {},
   "source": [
    "It appears that applying one-versus-rest to logistic regression resulted in a slight improvement in mean accuracy score, in addition to a slight reduction in variance among all cross-validation accuracy scores.  Let's try the same two models, but this time using the TF-IDF transformed data."
   ]
  },
  {
   "cell_type": "code",
   "execution_count": 41,
   "metadata": {},
   "outputs": [
    {
     "name": "stdout",
     "output_type": "stream",
     "text": [
      "Running cross-validation on model: logistic regression (TF-IDF)\n",
      "Done in 55.45 seconds.\n",
      "Running cross-validation on model: logistic regression (TF-IDF), OVR\n",
      "Done in 47.36 seconds.\n"
     ]
    }
   ],
   "source": [
    "lr_scores_tfidf = evaluate_model(LogisticRegression(), \"logistic regression (TF-IDF)\", X_train_tfidf, y_train)\n",
    "lr_ovr_scores_tfidf = evaluate_model(OneVsRestClassifier(LogisticRegression()), \"logistic regression (TF-IDF), OVR\", X_train_tfidf, y_train)"
   ]
  },
  {
   "cell_type": "code",
   "execution_count": 42,
   "metadata": {},
   "outputs": [
    {
     "name": "stdout",
     "output_type": "stream",
     "text": [
      "logistic regression (TF-IDF):\n",
      "0.7782379428089078 0.007776930815229845\n",
      "\n",
      "logistic regression, OVR (TF-IDF):\n",
      "0.7700444260254131 0.005479130544067042\n"
     ]
    }
   ],
   "source": [
    "print(\"logistic regression (TF-IDF):\")\n",
    "print(np.mean(lr_scores_tfidf), np.std(lr_scores_tfidf))\n",
    "print(\"\")\n",
    "print(\"logistic regression, OVR (TF-IDF):\")\n",
    "print(np.mean(lr_ovr_scores_tfidf), np.std(lr_ovr_scores_tfidf))"
   ]
  },
  {
   "cell_type": "markdown",
   "metadata": {},
   "source": [
    "Interestingly, in both cases, mean accuracy was slightly lower; though the variance of cross-validation accuracy scores was also lower."
   ]
  },
  {
   "cell_type": "markdown",
   "metadata": {},
   "source": [
    "## Spot-Checking Other Algorithms\n",
    "\n",
    "Let's now take an applied machine learning approach and look at the performance of a few other algorithms through some spot-checking.  This is by no means intended to be an exhaustive list/exploration of classifiers and hyperparameter values.  We're more interested in taking an initial look at how some additional algorithms perform in comparison to logistic regression, and which may be worth further evaluation (through an approach like grid search, which we will dive into later).\n",
    "\n",
    "Let's define all the models we want to evaluate, and then create functions to train and evaluate (with the option to include one-vs-rest in the process) as well as summarize overall results through consolidation of scores and box plots for visualization.\n",
    "\n",
    "*Note*: Given the dimensions of our data and the nature of these models, some of them models can take quite some time to run, depending on computer performance."
   ]
  },
  {
   "cell_type": "code",
   "execution_count": 33,
   "metadata": {},
   "outputs": [],
   "source": [
    "from sklearn.linear_model import RidgeClassifier\n",
    "from sklearn.linear_model import SGDClassifier\n",
    "from sklearn.naive_bayes import MultinomialNB\n",
    "from sklearn.naive_bayes import GaussianNB\n",
    "from sklearn.neighbors import KNeighborsClassifier\n",
    "from sklearn.tree import DecisionTreeClassifier\n",
    "from sklearn.ensemble import RandomForestClassifier\n",
    "from sklearn.ensemble import GradientBoostingClassifier\n",
    "from sklearn.ensemble import AdaBoostClassifier\n",
    "from sklearn.svm import SVC\n",
    "\n",
    "# function to create a dict of models (can accept partially populated dict as an argument)\n",
    "def define_models(models = dict()):\n",
    "    models[\"logistic\"] = LogisticRegression()\n",
    "    models[\"ridge\"] = RidgeClassifier()\n",
    "    models[\"sgd\"] = SGDClassifier()\n",
    "    models[\"mult_nb\"] = MultinomialNB()\n",
    "    models[\"knn_5\"] = KNeighborsClassifier()\n",
    "    models[\"tree\"] = DecisionTreeClassifier()\n",
    "    n_estimators = 50\n",
    "    models[\"forest\"] = RandomForestClassifier(n_estimators = n_estimators)\n",
    "    models[\"gboost\"] = GradientBoostingClassifier(n_estimators = n_estimators)\n",
    "    models[\"adaboost\"] = AdaBoostClassifier(n_estimators = n_estimators)\n",
    "    models['svml'] = SVC(kernel='linear')\n",
    "    \n",
    "    print(\"Defined {} models.\".format(len(models)))\n",
    "    return models"
   ]
  },
  {
   "cell_type": "code",
   "execution_count": 34,
   "metadata": {},
   "outputs": [],
   "source": [
    "# function to evaluate a set of models (both on their own and using one-vs-rest, if desired)\n",
    "def evaluate_models(models, X, y, folds = 5, metric = \"accuracy\", ovr = False):\n",
    "    results = dict()\n",
    "    \n",
    "    for model in models:\n",
    "        results[model] = evaluate_model(models[model], model, X, y, folds, metric)\n",
    "        if ovr: # include OVR version if `ovr` parameter set to True\n",
    "            results[model + \", OVR\"] = evaluate_model(OneVsRestClassifier(models[model], n_jobs = -1), X, y, folds, metric)\n",
    "    \n",
    "    return results\n",
    "\n",
    "# function to print result metrics and create box plots representing them\n",
    "def summarize_results(results, maximize=True):\n",
    "    # check for no results\n",
    "    if len(results) == 0:\n",
    "        print('no results')\n",
    "        return\n",
    "    # create a list of (name, mean(scores)) tuples\n",
    "    mean_scores = [(k, np.mean(v)) for k,v in results.items()]\n",
    "    # sort tuples by mean score\n",
    "    mean_scores = sorted(mean_scores, key=lambda x: x[1])\n",
    "    # reverse for descending order (e.g. for accuracy)\n",
    "    if maximize:\n",
    "        mean_scores = list(reversed(mean_scores))\n",
    "    # create lists of model names and scores for plotting\n",
    "    names = [x[0] for x in mean_scores]\n",
    "    scores = [results[x[0]] for x in mean_scores]\n",
    "    # print means, stds for each model\n",
    "    for i in range(len(results)):\n",
    "        name = names[i]\n",
    "        mean_score, std_score = np.mean(results[name]), np.std(results[name])\n",
    "        print('Rank=%d, Name=%s, Score=%.3f (+/- %.3f)' % (i+1, name, mean_score, std_score))\n",
    "             \n",
    "    # box plots\n",
    "    plt.figure(figsize=(15, 8))\n",
    "    plt.boxplot(scores, labels=names, whis=3)\n",
    "    _, labels = plt.xticks()\n",
    "    plt.setp(labels, rotation=90)"
   ]
  },
  {
   "cell_type": "markdown",
   "metadata": {},
   "source": [
    "Now we'll call our functions; defining the desired models, running spot-checking with cross-validation (for now, we'll omit the `OneVsRestClassifier` option, and we'll stick with the counts-only matrix \\[no TF-IDF\\]), and displaying mean scores and box plots."
   ]
  },
  {
   "cell_type": "code",
   "execution_count": 35,
   "metadata": {},
   "outputs": [
    {
     "name": "stdout",
     "output_type": "stream",
     "text": [
      "Defined 11 models.\n"
     ]
    }
   ],
   "source": [
    "models = define_models()"
   ]
  },
  {
   "cell_type": "code",
   "execution_count": 36,
   "metadata": {},
   "outputs": [
    {
     "name": "stdout",
     "output_type": "stream",
     "text": [
      "Running cross-validation on model: logistic\n",
      "Done in 58.74 seconds.\n",
      "Running cross-validation on model: ridge\n",
      "Done in 45.83 seconds.\n",
      "Running cross-validation on model: sgd\n",
      "Done in 63.13 seconds.\n",
      "Running cross-validation on model: mult_nb\n",
      "Done in 10.98 seconds.\n",
      "Running cross-validation on model: gaussian_nb\n",
      "Done in 12.69 seconds.\n",
      "Running cross-validation on model: knn_5\n",
      "Done in 1247.24 seconds.\n",
      "Running cross-validation on model: tree\n",
      "Done in 142.96 seconds.\n",
      "Running cross-validation on model: forest\n",
      "Done in 115.41 seconds.\n",
      "Running cross-validation on model: gboost\n",
      "Done in 1950.39 seconds.\n",
      "Running cross-validation on model: adaboost\n",
      "Done in 375.41 seconds.\n",
      "Running cross-validation on model: svml\n",
      "Done in 2441.97 seconds.\n"
     ]
    }
   ],
   "source": [
    "spot_cv_results = evaluate_models(models, X_train_count, y_train)"
   ]
  },
  {
   "cell_type": "code",
   "execution_count": 38,
   "metadata": {},
   "outputs": [
    {
     "name": "stdout",
     "output_type": "stream",
     "text": [
      "Rank=1, Name=logistic, Score=0.784 (+/- 0.013)\n",
      "Rank=2, Name=sgd, Score=0.769 (+/- 0.013)\n",
      "Rank=3, Name=svml, Score=0.767 (+/- 0.015)\n",
      "Rank=4, Name=forest, Score=0.765 (+/- 0.010)\n",
      "Rank=5, Name=mult_nb, Score=0.754 (+/- 0.007)\n",
      "Rank=6, Name=ridge, Score=0.753 (+/- 0.012)\n",
      "Rank=7, Name=adaboost, Score=0.721 (+/- 0.007)\n",
      "Rank=8, Name=tree, Score=0.716 (+/- 0.011)\n",
      "Rank=9, Name=gboost, Score=0.708 (+/- 0.008)\n",
      "Rank=10, Name=knn_5, Score=0.610 (+/- 0.014)\n",
      "Rank=11, Name=gaussian_nb, Score=0.458 (+/- 0.006)\n"
     ]
    },
    {
     "data": {
      "image/png": "[encoded data removed]",
      "text/plain": [
       "<Figure size 1080x576 with 1 Axes>"
      ]
     },
     "metadata": {
      "needs_background": "light"
     },
     "output_type": "display_data"
    }
   ],
   "source": [
    "summarize_results(spot_cv_results)"
   ]
  },
  {
   "cell_type": "markdown",
   "metadata": {},
   "source": [
    "After initial spot checking with cross-validation on the training set, it appears as though a couple of linear models are our top performers (logistic regression and stochastic gradient descent), followed by the linear kernel SVM, random forest, multinominal naive Bayes, and ridge models (all above 75% mean accuracy).\n",
    "\n",
    "Moving forward, we'll attempt some hyperparameter optimization through grid search with all of the above algorithms except SVM (for now, we'll avoid it for performance/runtime's sake).  This is continued in the part 2 notebook [here](./nlp_twitter_airline_sentiment_2.ipynb)."
   ]
  },
  {
   "cell_type": "code",
   "execution_count": null,
   "metadata": {},
   "outputs": [],
   "source": []
  }
 ],
 "metadata": {
  "kernelspec": {
   "display_name": "Python 3",
   "language": "python",
   "name": "python3"
  },
  "language_info": {
   "codemirror_mode": {
    "name": "ipython",
    "version": 3
   },
   "file_extension": ".py",
   "mimetype": "text/x-python",
   "name": "python",
   "nbconvert_exporter": "python",
   "pygments_lexer": "ipython3",
   "version": "3.7.3"
  }
 },
 "nbformat": 4,
 "nbformat_minor": 2
}
