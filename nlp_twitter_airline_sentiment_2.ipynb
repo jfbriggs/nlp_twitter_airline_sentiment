{
 "cells": [
  {
   "cell_type": "markdown",
   "metadata": {},
   "source": [
    "# Sentiment Analysis On Airline-Related Twitter Data: Part II\n",
    "\n",
    "Returning to the task of sentiment analysis on our 2015 airline-related Twitter dataset, let's import the saved (via Pickle) train/test splits for both the pure counts-based dataset and the TF-IDF-transformed dataset."
   ]
  },
  {
   "cell_type": "code",
   "execution_count": 1,
   "metadata": {},
   "outputs": [],
   "source": [
    "import warnings\n",
    "warnings.filterwarnings('ignore') # hide majority of Python warnings that may come up along the way\n",
    "\n",
    "import pandas as pd\n",
    "import numpy as np\n",
    "import matplotlib.pyplot as plt\n",
    "import seaborn as sns\n",
    "\n",
    "plt.style.use(\"fivethirtyeight\")\n",
    "\n",
    "import pickle\n",
    "\n",
    "import sqlite3\n",
    "\n",
    "%matplotlib inline"
   ]
  },
  {
   "cell_type": "code",
   "execution_count": 2,
   "metadata": {},
   "outputs": [
    {
     "data": {
      "text/plain": [
       "((10863, 9371), (3622, 9371), (10863,), (3622,))"
      ]
     },
     "execution_count": 2,
     "metadata": {},
     "output_type": "execute_result"
    }
   ],
   "source": [
    "# retrieve pickled files\n",
    "with open(\"count_split.pkl\", \"rb\") as count_split:\n",
    "    X_train_count, X_test_count, y_train, y_test = pickle.load(count_split)\n",
    "    \n",
    "with open(\"tfidf_split.pkl\", \"rb\") as tfidf_split:\n",
    "    X_train_tfidf, X_test_tfidf, y_train, y_test = pickle.load(tfidf_split)\n",
    "    \n",
    "# check shapes of resulting\n",
    "X_train_count.shape, X_test_count.shape, y_train.shape, y_test.shape"
   ]
  },
  {
   "cell_type": "markdown",
   "metadata": {},
   "source": [
    "## Grid Search With Top-Performing Models\n",
    "\n",
    "Now that our data is imported; let's now attempt some hyperparameter optimization through grid search for some of the top-performing algorithms from part 1.\n",
    "\n",
    "As a refresher, the spot-checking results for our top 6 models were:\n",
    "\n",
    "`\n",
    "Rank=1, Name=logistic, Score=0.784 (+/- 0.013)\n",
    "Rank=2, Name=sgd, Score=0.769 (+/- 0.013)\n",
    "Rank=3, Name=svml, Score=0.767 (+/- 0.015)\n",
    "Rank=4, Name=forest, Score=0.765 (+/- 0.010)\n",
    "Rank=5, Name=mult_nb, Score=0.754 (+/- 0.007)\n",
    "Rank=6, Name=ridge, Score=0.753 (+/- 0.012)`\n",
    "\n",
    "For performance/runtime's sake and to keep things reasonably straightforward, we'll move forward with applying grid search for hyperparameter tuning only on our linear models (logistic regression, stochastic gradient descent, and ridge) and multinomial naive Bayes for the time being.\n",
    "\n",
    "We'll create parameter grids for each model and employ scikit-learn's `GridSearchCV` to determine the highest performing parameter combination for each.\n",
    "\n",
    "*Note*: As was the case with our spot-checking approach, this step is not intended to be an exhaustive exploration of hyperparameters and values, but rather an initial look into whether some further performance gains can be achieved through a pretty lightweight grid search.  We'll build a function that, for each model, runs grid search (with cross-validation) and makes predictions on our test set (using the top-performing parameter value combinations) to produce a basic accuracy score for comparison/evaluation of potential overfitting.  We'll run this using both our pure counts-based data and our TF-IDF-transformed data, and include one-versus-rest versions (again, using scikit-learn's `OneVsRestClassifier`) of each model in our evaluations."
   ]
  },
  {
   "cell_type": "code",
   "execution_count": 3,
   "metadata": {},
   "outputs": [],
   "source": [
    "from sklearn.linear_model import LogisticRegression\n",
    "from sklearn.linear_model import RidgeClassifier\n",
    "from sklearn.linear_model import SGDClassifier\n",
    "from sklearn.naive_bayes import MultinomialNB\n",
    "\n",
    "from sklearn.multiclass import OneVsRestClassifier\n",
    "\n",
    "from sklearn.model_selection import GridSearchCV\n",
    "from sklearn.metrics import accuracy_score\n",
    "\n",
    "# function to iterate through collection of models and param grids, find optimal parameter values for each\n",
    "# then make predictions on the test set using the refit \"best estimator\" and score\n",
    "# outputs a dict where key = model name, value = dict of refit best estimator, mean validation score, and test set pred score\n",
    "def grid_search_predict(models, param_grids, X_train, X_test, y_train, y_test, cv_metric, scoring_func, n_jobs = None):\n",
    "    result = {}\n",
    "    \n",
    "    for model_name in models.keys():\n",
    "        print(\"Model: {}\".format(model_name))\n",
    "        print(\"Running grid search (with cross-validation) and testing predictions...\")\n",
    "        \n",
    "        clf = GridSearchCV(models[model_name], param_grids[model_name], scoring = cv_metric, n_jobs = n_jobs)\n",
    "        clf.fit(X_train, y_train)\n",
    "        test_score = scoring_func(y_test, clf.predict(X_test))\n",
    "              \n",
    "        print(\"Finished.\")\n",
    "        print(\"\")\n",
    "        \n",
    "        result[model_name] = {\n",
    "            \"estimator\": clf.best_estimator_,\n",
    "            \"cv_score\": clf.best_score_,\n",
    "            \"test_score\": test_score\n",
    "        }\n",
    "        \n",
    "    return result"
   ]
  },
  {
   "cell_type": "markdown",
   "metadata": {},
   "source": [
    "### Parameter Grid & Model Preparation\n",
    "\n",
    "Now we'll construct the parameter grids for our models (again, we're aiming to be very lightweight here, for now), as well as a collection of our base models themselves."
   ]
  },
  {
   "cell_type": "code",
   "execution_count": 4,
   "metadata": {},
   "outputs": [],
   "source": [
    "# build collection of parameter grids (for grid search) for each algorithm\n",
    "param_grids = {\n",
    "    \"logistic\": {\n",
    "        \"class_weight\": [None, \"balanced\"],\n",
    "        \"random_state\": [1],\n",
    "        \"solver\": [\"newton-cg\", \"lbfgs\", \"sag\"]\n",
    "    },\n",
    "    \"sgd\": {\n",
    "        \"loss\": [\"hinge\", \"modified_huber\", \"squared_hinge\", \"perceptron\"],\n",
    "        \"class_weight\": [None, \"balanced\"]\n",
    "    },\n",
    "    \"ridge\": {\n",
    "        \"alpha\": [0.1, 0.5, 1.0],\n",
    "        \"class_weight\": [None, \"balanced\"],\n",
    "        \"normalize\": [True, False]\n",
    "    },\n",
    "    \"mult_nb\": {\n",
    "        \"alpha\": [0.5, 1.0, 2.0],\n",
    "        \"fit_prior\": [False, True]\n",
    "    }\n",
    "}\n",
    "\n",
    "# create dict of models to move forward with\n",
    "models = {\n",
    "    \"logistic\": LogisticRegression(),\n",
    "    \"sgd\": SGDClassifier(),\n",
    "    \"ridge\": RidgeClassifier(),\n",
    "    \"mult_nb\": MultinomialNB()\n",
    "}"
   ]
  },
  {
   "cell_type": "markdown",
   "metadata": {},
   "source": [
    "Now we'll need to add modified versions of our parameter grids for the one-vs-rest versions of our models (which requires the addition of `estimator__` to every hyperparameter name in order for the grid search to access the core model contained within the `OneVsRestClassifier`)."
   ]
  },
  {
   "cell_type": "code",
   "execution_count": 5,
   "metadata": {
    "scrolled": true
   },
   "outputs": [],
   "source": [
    "# add one-vs-rest versions of models and param grids for evaluation\n",
    "ovr_param_grids = {}\n",
    "ovr_models = {}\n",
    "\n",
    "for name, params in param_grids.items():\n",
    "    ovr_params = {\"estimator__\" + k: v for k, v in params.items()}\n",
    "    ovr_param_grids[name + \", OVR\"] = ovr_params\n",
    "\n",
    "for name, estimator in models.items():\n",
    "    ovr_models[name + \", OVR\"] = OneVsRestClassifier(estimator)\n",
    "    \n",
    "param_grids.update(ovr_param_grids)\n",
    "models.update(ovr_models)"
   ]
  },
  {
   "cell_type": "code",
   "execution_count": 6,
   "metadata": {},
   "outputs": [
    {
     "name": "stdout",
     "output_type": "stream",
     "text": [
      "dict_keys(['logistic', 'sgd', 'ridge', 'mult_nb', 'logistic, OVR', 'sgd, OVR', 'ridge, OVR', 'mult_nb, OVR'])\n",
      "dict_keys(['logistic', 'sgd', 'ridge', 'mult_nb', 'logistic, OVR', 'sgd, OVR', 'ridge, OVR', 'mult_nb, OVR'])\n"
     ]
    }
   ],
   "source": [
    "# check keys in both param grid dict and models dict\n",
    "print(param_grids.keys())\n",
    "print(models.keys())"
   ]
  },
  {
   "cell_type": "markdown",
   "metadata": {},
   "source": [
    "### Running Grid Search & Evaluating On Test Data\n",
    "\n",
    "Our parameter grids and base models are ready to go, so we'll run our function on each using the counts-based data."
   ]
  },
  {
   "cell_type": "code",
   "execution_count": 7,
   "metadata": {},
   "outputs": [
    {
     "name": "stdout",
     "output_type": "stream",
     "text": [
      "Model: logistic\n",
      "Running grid search (with cross-validation) and testing predictions...\n",
      "Finished.\n",
      "\n",
      "Model: sgd\n",
      "Running grid search (with cross-validation) and testing predictions...\n",
      "Finished.\n",
      "\n",
      "Model: ridge\n",
      "Running grid search (with cross-validation) and testing predictions...\n",
      "Finished.\n",
      "\n",
      "Model: mult_nb\n",
      "Running grid search (with cross-validation) and testing predictions...\n",
      "Finished.\n",
      "\n",
      "Model: logistic, OVR\n",
      "Running grid search (with cross-validation) and testing predictions...\n",
      "Finished.\n",
      "\n",
      "Model: sgd, OVR\n",
      "Running grid search (with cross-validation) and testing predictions...\n",
      "Finished.\n",
      "\n",
      "Model: ridge, OVR\n",
      "Running grid search (with cross-validation) and testing predictions...\n",
      "Finished.\n",
      "\n",
      "Model: mult_nb, OVR\n",
      "Running grid search (with cross-validation) and testing predictions...\n",
      "Finished.\n",
      "\n"
     ]
    }
   ],
   "source": [
    "estimators_count = grid_search_predict(models, param_grids, X_train_count, X_test_count, y_train, y_test, \"accuracy\", accuracy_score, n_jobs = 4)"
   ]
  },
  {
   "cell_type": "markdown",
   "metadata": {},
   "source": [
    "And now on our TF-IDF-transformed data."
   ]
  },
  {
   "cell_type": "code",
   "execution_count": 8,
   "metadata": {},
   "outputs": [
    {
     "name": "stdout",
     "output_type": "stream",
     "text": [
      "Model: logistic\n",
      "Running grid search (with cross-validation) and testing predictions...\n",
      "Finished.\n",
      "\n",
      "Model: sgd\n",
      "Running grid search (with cross-validation) and testing predictions...\n",
      "Finished.\n",
      "\n",
      "Model: ridge\n",
      "Running grid search (with cross-validation) and testing predictions...\n",
      "Finished.\n",
      "\n",
      "Model: mult_nb\n",
      "Running grid search (with cross-validation) and testing predictions...\n",
      "Finished.\n",
      "\n",
      "Model: logistic, OVR\n",
      "Running grid search (with cross-validation) and testing predictions...\n",
      "Finished.\n",
      "\n",
      "Model: sgd, OVR\n",
      "Running grid search (with cross-validation) and testing predictions...\n",
      "Finished.\n",
      "\n",
      "Model: ridge, OVR\n",
      "Running grid search (with cross-validation) and testing predictions...\n",
      "Finished.\n",
      "\n",
      "Model: mult_nb, OVR\n",
      "Running grid search (with cross-validation) and testing predictions...\n",
      "Finished.\n",
      "\n"
     ]
    }
   ],
   "source": [
    "estimators_tfidf = grid_search_predict(models, param_grids, X_train_tfidf, X_test_tfidf, y_train, y_test, \"accuracy\", accuracy_score, n_jobs = 4)"
   ]
  },
  {
   "cell_type": "markdown",
   "metadata": {},
   "source": [
    "### Grid Search/Testing Outcomes\n",
    "\n",
    "Let's now take a look at the outcome of our grid search and test set evaluation.  For each model in our output dictionary, we have access to a refit version of the model using the highest-performing combination of hyperparameter values, the mean accuracy score from grid search, and the accuracy score achieved from making predictions on the test set.\n",
    "\n",
    "First we'll combine the two output dictionaries (currently we have two; one for the counts-based data and one for the TF-IDF-transformed data); then plot the two score values for each model."
   ]
  },
  {
   "cell_type": "code",
   "execution_count": 9,
   "metadata": {},
   "outputs": [],
   "source": [
    "# aggregate all results into one dict\n",
    "all_estimators = estimators_count\n",
    "all_estimators.update({k + \" (TF-IDF)\": v for k, v in estimators_tfidf.items()})"
   ]
  },
  {
   "cell_type": "code",
   "execution_count": 10,
   "metadata": {},
   "outputs": [],
   "source": [
    "# Populate collections of model names, mean cross-validation (from grid search) accuracy scores,\n",
    "# and accuracy scores from test set predictions for use in plotting\n",
    "names = []\n",
    "mean_cv_scores = []\n",
    "test_scores = []\n",
    "\n",
    "for model, results in all_estimators.items():\n",
    "    names.append(model)\n",
    "    mean_cv_scores.append(round(results[\"cv_score\"], 3))\n",
    "    test_scores.append(round(results[\"test_score\"], 3))"
   ]
  },
  {
   "cell_type": "code",
   "execution_count": 27,
   "metadata": {
    "scrolled": false
   },
   "outputs": [
    {
     "data": {
      "image/png": "[encoded data removed]",
      "text/plain": [
       "<Figure size 1008x576 with 1 Axes>"
      ]
     },
     "metadata": {
      "needs_background": "light"
     },
     "output_type": "display_data"
    }
   ],
   "source": [
    "# Create plot of scores for each model\n",
    "plt.figure(figsize = (14, 8))\n",
    "plt.title(\"Mean CV accuracy score vs. test accuracy score for grid search best estimators\")\n",
    "plt.scatter(names, mean_cv_scores, s=70.0, color = \"red\", label = \"CV Score\")\n",
    "plt.scatter(names, test_scores, s=70.0, color = \"blue\", label = \"Test Score\")\n",
    "plt.xlabel(\"Models\")\n",
    "plt.ylabel(\"Accuracy\")\n",
    "plt.xticks(rotation = 45)\n",
    "plt.legend()\n",
    "plt.show()"
   ]
  },
  {
   "cell_type": "markdown",
   "metadata": {},
   "source": [
    "From our grid search and testing process, we can see that the predictive performance of the models differ by very small amounts; but, nonetheless, logistic regression still sits atop the pack (specifically logistic regression run using the one-vs-rest classifier and the counts-based dataset) with test set accuracy a hair under 80%.\n",
    "\n",
    "Also somewhat interesting is the fact that, for every single model, the accuracy score for predictions made on the test set is slightly higher than the mean accuracy score achieved via cross-validation in the grid search.  This is a minor note, however, and could be different were we to use a different random seed for our train/test split."
   ]
  },
  {
   "cell_type": "markdown",
   "metadata": {},
   "source": [
    "## Testing Deep Learning (TensorFlow)\n",
    "\n",
    "As a final step, let's evaluate a basic neural network/deep learning model to see how it performs in comparison to the above.\n",
    "\n",
    "We'll use TensorFlow, popular for deep learning applications, and its Keras API to do some preprocessing and create our layered model."
   ]
  },
  {
   "cell_type": "code",
   "execution_count": 12,
   "metadata": {
    "scrolled": true
   },
   "outputs": [],
   "source": [
    "import tensorflow as tf\n",
    "from tensorflow import keras"
   ]
  },
  {
   "cell_type": "markdown",
   "metadata": {},
   "source": [
    "### Preprocessing for Word Embeddings Method\n",
    "\n",
    "As opposed to our word counts approach to the dataset from before, we're going to instead employ an approach to our dataset that involves converting the each tweet's text into a numerical sequence (using word-to-number mappings generated by Keras' tokenizer) and incorporating a word embedding layer at the front of our neural network.\n",
    "\n",
    "First let's import (using Pickle) a preprocessed but not-yet-tokenized version of our data that we saved in part 1."
   ]
  },
  {
   "cell_type": "code",
   "execution_count": 13,
   "metadata": {},
   "outputs": [
    {
     "data": {
      "text/html": [
       "<div>\n",
       "<style scoped>\n",
       "    .dataframe tbody tr th:only-of-type {\n",
       "        vertical-align: middle;\n",
       "    }\n",
       "\n",
       "    .dataframe tbody tr th {\n",
       "        vertical-align: top;\n",
       "    }\n",
       "\n",
       "    .dataframe thead th {\n",
       "        text-align: right;\n",
       "    }\n",
       "</style>\n",
       "<table border=\"1\" class=\"dataframe\">\n",
       "  <thead>\n",
       "    <tr style=\"text-align: right;\">\n",
       "      <th></th>\n",
       "      <th>text</th>\n",
       "      <th>sentiment</th>\n",
       "    </tr>\n",
       "  </thead>\n",
       "  <tbody>\n",
       "    <tr>\n",
       "      <th>0</th>\n",
       "      <td>new ceo seek right balance passenger wall gree...</td>\n",
       "      <td>neutral</td>\n",
       "    </tr>\n",
       "    <tr>\n",
       "      <th>1</th>\n",
       "      <td>nerve 😡 😡 nothappy</td>\n",
       "      <td>negative</td>\n",
       "    </tr>\n",
       "    <tr>\n",
       "      <th>2</th>\n",
       "      <td>yes wait line hour passenger leave not want wa...</td>\n",
       "      <td>negative</td>\n",
       "    </tr>\n",
       "    <tr>\n",
       "      <th>3</th>\n",
       "      <td>gate iah time seat close flight know people ar...</td>\n",
       "      <td>negative</td>\n",
       "    </tr>\n",
       "    <tr>\n",
       "      <th>4</th>\n",
       "      <td>cool bag bit longer not baggage blue ball turn...</td>\n",
       "      <td>negative</td>\n",
       "    </tr>\n",
       "  </tbody>\n",
       "</table>\n",
       "</div>"
      ],
      "text/plain": [
       "                                                text sentiment\n",
       "0  new ceo seek right balance passenger wall gree...   neutral\n",
       "1                                 nerve 😡 😡 nothappy  negative\n",
       "2  yes wait line hour passenger leave not want wa...  negative\n",
       "3  gate iah time seat close flight know people ar...  negative\n",
       "4  cool bag bit longer not baggage blue ball turn...  negative"
      ]
     },
     "execution_count": 13,
     "metadata": {},
     "output_type": "execute_result"
    }
   ],
   "source": [
    "from sklearn.model_selection import train_test_split\n",
    "from sklearn.preprocessing import OneHotEncoder\n",
    "\n",
    "# open previously saved text + sentiment dataframe (with text preprocessed and re-joined)\n",
    "with open(\"processed_df.pkl\", \"rb\") as file:\n",
    "    processed_df = pickle.load(file)\n",
    "\n",
    "processed_df.head()"
   ]
  },
  {
   "cell_type": "markdown",
   "metadata": {},
   "source": [
    "Next we'll convert our target variable (`sentiment`) into 3 separate columns using one-hot encoding."
   ]
  },
  {
   "cell_type": "code",
   "execution_count": 14,
   "metadata": {},
   "outputs": [
    {
     "data": {
      "text/plain": [
       "array([[0., 1., 0.],\n",
       "       [1., 0., 0.],\n",
       "       [1., 0., 0.],\n",
       "       [1., 0., 0.],\n",
       "       [1., 0., 0.]])"
      ]
     },
     "execution_count": 14,
     "metadata": {},
     "output_type": "execute_result"
    }
   ],
   "source": [
    "target_labels = OneHotEncoder(sparse=False).fit_transform(processed_df[[\"sentiment\"]])\n",
    "target_labels[:5]"
   ]
  },
  {
   "cell_type": "markdown",
   "metadata": {},
   "source": [
    "Now we can split our data into a training set and a holdout/test set.  We'll use the same parameter values as we did prior."
   ]
  },
  {
   "cell_type": "code",
   "execution_count": 15,
   "metadata": {},
   "outputs": [],
   "source": [
    "X_train, X_test, y_train, y_test = train_test_split(processed_df[\"text\"], target_labels, test_size = 0.25, random_state = 1)"
   ]
  },
  {
   "cell_type": "markdown",
   "metadata": {},
   "source": [
    "Now, we'll take a quick look at the maximum tweet length (by number of words) to get an idea of what value we'll want to use when padding sequences later, and then use Keras' tokenizer (and its `fit_on_texts` method) to convert the text of the tweets in our dataset to sequences of numbers.  This method effectively splits each observation's text into tokens (in this case, indivudal words), creates word:number mappings based on the entire vocabulary (all unique words/tokens in the entire training data), and uses those mappings to convert each sequence of tokens to numbers."
   ]
  },
  {
   "cell_type": "code",
   "execution_count": 16,
   "metadata": {},
   "outputs": [
    {
     "data": {
      "text/plain": [
       "43"
      ]
     },
     "execution_count": 16,
     "metadata": {},
     "output_type": "execute_result"
    }
   ],
   "source": [
    "# calculate maximum number of tokens in the text column (to assist with padding)\n",
    "word_lengths = processed_df[\"text\"].apply(lambda x: len(x.split()))\n",
    "max(word_lengths)"
   ]
  },
  {
   "cell_type": "code",
   "execution_count": 17,
   "metadata": {},
   "outputs": [],
   "source": [
    "tokenizer = keras.preprocessing.text.Tokenizer(lower=True)\n",
    "tokenizer.fit_on_texts(X_train)"
   ]
  },
  {
   "cell_type": "code",
   "execution_count": 18,
   "metadata": {},
   "outputs": [
    {
     "data": {
      "text/plain": [
       "[[200, 440, 1037],\n",
       " [212, 42, 383, 14, 79, 32, 42, 19, 17, 4070, 55],\n",
       " [2923, 104],\n",
       " [409, 369, 57, 2, 328, 533, 816, 301, 139, 143],\n",
       " [2327]]"
      ]
     },
     "execution_count": 18,
     "metadata": {},
     "output_type": "execute_result"
    }
   ],
   "source": [
    "X_train = tokenizer.texts_to_sequences(X_train)\n",
    "X_test = tokenizer.texts_to_sequences(X_test)\n",
    "\n",
    "X_train[:5]"
   ]
  },
  {
   "cell_type": "markdown",
   "metadata": {},
   "source": [
    "Even from observing the 5 sequences above, we can see that not every list is of the same length.  For our modeling, we'll need to adjust the data so each entry is the same length.  We can achieve this through padding, adding whatever number of `<PAD>` tokens (in this case, mapped to the number 0) to each sequence to make it our desired length (in this case, we've set the length we want to achieve at 43).\n",
    "\n",
    "*Note*: By setting the max length to 43 and setting the value of the `truncating` parameter to `post`; we're also ensuring that, in the case that any sequence is longer than 43 on its own (which shouldn't be the case, since we calculated the maximum word length for our data earlier, and got 43), that sequence would be truncated by having the last *n* elements (where `n = len(sequence) - 43`) removed to reduce its length to 43."
   ]
  },
  {
   "cell_type": "code",
   "execution_count": 19,
   "metadata": {},
   "outputs": [
    {
     "data": {
      "text/plain": [
       "array([ 200,  440, 1037,    0,    0,    0,    0,    0,    0,    0,    0,\n",
       "          0,    0,    0,    0,    0,    0,    0,    0,    0,    0,    0,\n",
       "          0,    0,    0,    0,    0,    0,    0,    0,    0,    0,    0,\n",
       "          0,    0,    0,    0,    0,    0,    0,    0,    0,    0])"
      ]
     },
     "execution_count": 19,
     "metadata": {},
     "output_type": "execute_result"
    }
   ],
   "source": [
    "X_train = keras.preprocessing.sequence.pad_sequences(X_train, padding = \"post\", truncating = \"post\", maxlen = 43)\n",
    "X_test = keras.preprocessing.sequence.pad_sequences(X_test, padding = \"post\", truncating = \"post\", maxlen = 43)\n",
    "\n",
    "X_train[0]"
   ]
  },
  {
   "cell_type": "markdown",
   "metadata": {},
   "source": [
    "We can now see, as an example, that the first entry in our train set (which only had a length of 3) has now been padded with the appropriate number of 0s."
   ]
  },
  {
   "cell_type": "markdown",
   "metadata": {},
   "source": [
    "### Creating the Model\n",
    "\n",
    "Now we'll move forward to using Keras to create our neural network.  First we'll determine the number of words in our vocabulary in order to provide the model's first layer the shape of the input (which will be the size of the vocabulary + 1).  We can access this through the tokenizer object's `get_config` method."
   ]
  },
  {
   "cell_type": "code",
   "execution_count": 20,
   "metadata": {},
   "outputs": [
    {
     "data": {
      "text/plain": [
       "8946"
      ]
     },
     "execution_count": 20,
     "metadata": {},
     "output_type": "execute_result"
    }
   ],
   "source": [
    "# determine total # of words/tokens in the tokenizer's vocabulary\n",
    "import json\n",
    "\n",
    "len(json.loads(tokenizer.get_config()[\"index_word\"]))"
   ]
  },
  {
   "cell_type": "markdown",
   "metadata": {},
   "source": [
    "Now let's create our model using Keras' `Sequential` API, and add our layers.  We'll first add our embedding layer, which effectively creates a multi-dimensional (in our case, 16 dimensions) vector for each token that helps add information about relative meanings between words (see [here](https://www.tensorflow.org/tutorials/text/word_embeddings) for a bit more information about word embeddings); then reduce these back to a single dimension using the `GlobalAveragePooling1D` layer.  Finally, we'll add two basic `Dense` layers; the first (which we'll give 16 neurons) using `relu` as its activation function, and the second (which we'll give 3 neurons, given having 3 possible categories in our target variable) using `softmax` as its activation function.\n",
    "\n",
    "There are plenty of modifications we could try with our neural network, but this is the basic model we'll use in this application."
   ]
  },
  {
   "cell_type": "code",
   "execution_count": 21,
   "metadata": {},
   "outputs": [],
   "source": [
    "model = keras.Sequential()"
   ]
  },
  {
   "cell_type": "code",
   "execution_count": 22,
   "metadata": {},
   "outputs": [
    {
     "name": "stdout",
     "output_type": "stream",
     "text": [
      "Model: \"sequential\"\n",
      "_________________________________________________________________\n",
      "Layer (type)                 Output Shape              Param #   \n",
      "=================================================================\n",
      "embedding (Embedding)        (None, None, 16)          143152    \n",
      "_________________________________________________________________\n",
      "global_average_pooling1d (Gl (None, 16)                0         \n",
      "_________________________________________________________________\n",
      "dropout (Dropout)            (None, 16)                0         \n",
      "_________________________________________________________________\n",
      "dense (Dense)                (None, 16)                272       \n",
      "_________________________________________________________________\n",
      "dropout_1 (Dropout)          (None, 16)                0         \n",
      "_________________________________________________________________\n",
      "dense_1 (Dense)              (None, 3)                 51        \n",
      "=================================================================\n",
      "Total params: 143,475\n",
      "Trainable params: 143,475\n",
      "Non-trainable params: 0\n",
      "_________________________________________________________________\n"
     ]
    }
   ],
   "source": [
    "model.add(keras.layers.Embedding(8947, 16))\n",
    "model.add(keras.layers.GlobalAveragePooling1D())\n",
    "model.add(keras.layers.Dropout(0.5))\n",
    "model.add(keras.layers.Dense(16, activation = \"relu\"))\n",
    "model.add(keras.layers.Dropout(0.5))\n",
    "model.add(keras.layers.Dense(3, activation = \"softmax\"))\n",
    "\n",
    "model.summary()"
   ]
  },
  {
   "cell_type": "markdown",
   "metadata": {},
   "source": [
    "### Compiling, Fitting, and Evaluating the Model\n",
    "\n",
    "Now we'll compile our model using Adam optimization (a stochastic gradient descent method), `categorical_crossentropy` for our loss function (given that we have 3 possible label classes), and accuracy for our performance metric as before.\n",
    "\n",
    "We'll then split our training set further into the actual training data and the validation data (which wasn't required of us before given our use of cross-validation), and then fit + evaluate the model."
   ]
  },
  {
   "cell_type": "code",
   "execution_count": 23,
   "metadata": {},
   "outputs": [],
   "source": [
    "model.compile(optimizer=\"adam\", loss=\"categorical_crossentropy\", metrics=[\"accuracy\"])"
   ]
  },
  {
   "cell_type": "code",
   "execution_count": 24,
   "metadata": {},
   "outputs": [
    {
     "name": "stdout",
     "output_type": "stream",
     "text": [
      "Epoch 1/15\n",
      "272/272 [==============================] - 0s 2ms/step - loss: 0.9649 - accuracy: 0.6163 - val_loss: 0.9037 - val_accuracy: 0.6277\n",
      "Epoch 2/15\n",
      "272/272 [==============================] - 0s 1ms/step - loss: 0.8963 - accuracy: 0.6245 - val_loss: 0.8295 - val_accuracy: 0.6277\n",
      "Epoch 3/15\n",
      "272/272 [==============================] - 0s 1ms/step - loss: 0.7862 - accuracy: 0.6510 - val_loss: 0.7091 - val_accuracy: 0.6848\n",
      "Epoch 4/15\n",
      "272/272 [==============================] - 0s 1ms/step - loss: 0.6943 - accuracy: 0.6939 - val_loss: 0.6547 - val_accuracy: 0.7170\n",
      "Epoch 5/15\n",
      "272/272 [==============================] - 0s 1ms/step - loss: 0.6407 - accuracy: 0.7165 - val_loss: 0.6274 - val_accuracy: 0.7487\n",
      "Epoch 6/15\n",
      "272/272 [==============================] - 0s 1ms/step - loss: 0.6062 - accuracy: 0.7387 - val_loss: 0.6151 - val_accuracy: 0.7598\n",
      "Epoch 7/15\n",
      "272/272 [==============================] - 0s 1ms/step - loss: 0.5773 - accuracy: 0.7551 - val_loss: 0.6091 - val_accuracy: 0.7648\n",
      "Epoch 8/15\n",
      "272/272 [==============================] - 0s 1ms/step - loss: 0.5594 - accuracy: 0.7663 - val_loss: 0.6082 - val_accuracy: 0.7630\n",
      "Epoch 9/15\n",
      "272/272 [==============================] - 0s 1ms/step - loss: 0.5273 - accuracy: 0.7850 - val_loss: 0.6076 - val_accuracy: 0.7625\n",
      "Epoch 10/15\n",
      "272/272 [==============================] - 0s 1ms/step - loss: 0.5147 - accuracy: 0.7907 - val_loss: 0.6090 - val_accuracy: 0.7607\n",
      "Epoch 11/15\n",
      "272/272 [==============================] - 0s 1ms/step - loss: 0.4950 - accuracy: 0.8009 - val_loss: 0.6170 - val_accuracy: 0.7561\n",
      "Epoch 12/15\n",
      "272/272 [==============================] - 0s 1ms/step - loss: 0.4888 - accuracy: 0.8076 - val_loss: 0.6167 - val_accuracy: 0.7593\n",
      "Epoch 13/15\n",
      "272/272 [==============================] - 0s 1ms/step - loss: 0.4683 - accuracy: 0.8198 - val_loss: 0.6268 - val_accuracy: 0.7492\n",
      "Epoch 14/15\n",
      "272/272 [==============================] - 0s 1ms/step - loss: 0.4503 - accuracy: 0.8211 - val_loss: 0.6280 - val_accuracy: 0.7506\n",
      "Epoch 15/15\n",
      "272/272 [==============================] - 0s 1ms/step - loss: 0.4421 - accuracy: 0.8259 - val_loss: 0.6350 - val_accuracy: 0.7538\n",
      "114/114 [==============================] - 0s 477us/step - loss: 0.6363 - accuracy: 0.7548\n",
      "\n",
      "Loss:  0.636333167552948\n",
      "Accuracy: 0.7548316121101379\n"
     ]
    }
   ],
   "source": [
    "X_train, X_val, y_train, y_val = train_test_split(X_train, y_train, test_size = 0.2, random_state = 1)\n",
    "\n",
    "model_history = model.fit(X_train, y_train, epochs = 15, validation_data = (X_val, y_val), verbose = 1)\n",
    "loss, accuracy = model.evaluate(X_test, y_test)\n",
    "\n",
    "print(\"\")\n",
    "print(\"Loss: \", loss)\n",
    "print(\"Accuracy:\", accuracy)"
   ]
  },
  {
   "cell_type": "markdown",
   "metadata": {},
   "source": [
    "Let's plot both loss and accuracy over the course of our 15 epochs."
   ]
  },
  {
   "cell_type": "code",
   "execution_count": 25,
   "metadata": {},
   "outputs": [
    {
     "data": {
      "image/png": "[encoded data removed]",
      "text/plain": [
       "<Figure size 576x360 with 1 Axes>"
      ]
     },
     "metadata": {
      "needs_background": "light"
     },
     "output_type": "display_data"
    }
   ],
   "source": [
    "history_dict = model_history.history\n",
    "\n",
    "acc = history_dict['accuracy']\n",
    "val_acc = history_dict['val_accuracy']\n",
    "loss = history_dict['loss']\n",
    "val_loss = history_dict['val_loss']\n",
    "\n",
    "epochs = range(1, len(acc) + 1)\n",
    "\n",
    "plt.figure(figsize = (8, 5))\n",
    "plt.plot(epochs, loss, 'b', label='Training loss')\n",
    "plt.plot(epochs, val_loss, 'r', label='Validation loss')\n",
    "plt.title('Training and validation loss')\n",
    "plt.xlabel('Epochs')\n",
    "plt.ylabel('Loss')\n",
    "plt.legend()\n",
    "\n",
    "plt.show()"
   ]
  },
  {
   "cell_type": "code",
   "execution_count": 26,
   "metadata": {},
   "outputs": [
    {
     "data": {
      "image/png": "[encoded data removed]",
      "text/plain": [
       "<Figure size 576x360 with 1 Axes>"
      ]
     },
     "metadata": {
      "needs_background": "light"
     },
     "output_type": "display_data"
    }
   ],
   "source": [
    "plt.figure(figsize = (8, 5))\n",
    "plt.plot(epochs, acc, 'b', label='Training acc')\n",
    "plt.plot(epochs, val_acc, 'r', label='Validation acc')\n",
    "plt.title('Training and validation accuracy')\n",
    "plt.xlabel('Epochs')\n",
    "plt.ylabel('Accuracy')\n",
    "plt.legend(loc='lower right')\n",
    "\n",
    "plt.show()"
   ]
  },
  {
   "cell_type": "markdown",
   "metadata": {},
   "source": [
    "Looking at our plots, we can see that the model we built begins to overfit around the 8th or 9th epoch.  At the 8th epoch, our training and validation accuracy are just above 76% and the scoring of predictions on the test set are at about 75.5%; putting this model's predictive performance roughly bottom-third relative to the models we created earlier via grid search."
   ]
  },
  {
   "cell_type": "markdown",
   "metadata": {},
   "source": [
    "## Next Steps\n",
    "\n",
    "Should we want to continue or build on our sentiment analysis work from this project, a few potential next steps could include:\n",
    "- Evaluating further preprocessing steps and their impact on model performance\n",
    "- More extensive grid search using more models as well as a greater number of hyperparameters and values for each model\n",
    "- Spot-checking and evaluating other types of models\n",
    "- Investigating alternative neural network construction or tokenization via TensorFlow/Keras"
   ]
  },
  {
   "cell_type": "code",
   "execution_count": null,
   "metadata": {},
   "outputs": [],
   "source": []
  }
 ],
 "metadata": {
  "kernelspec": {
   "display_name": "Python 3",
   "language": "python",
   "name": "python3"
  },
  "language_info": {
   "codemirror_mode": {
    "name": "ipython",
    "version": 3
   },
   "file_extension": ".py",
   "mimetype": "text/x-python",
   "name": "python",
   "nbconvert_exporter": "python",
   "pygments_lexer": "ipython3",
   "version": "3.7.3"
  }
 },
 "nbformat": 4,
 "nbformat_minor": 2
}
